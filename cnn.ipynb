{
 "cells": [
  {
   "cell_type": "code",
   "execution_count": 1,
   "metadata": {},
   "outputs": [],
   "source": [
    "import numpy as np\n",
    "import sklearn\n",
    "import os\n",
    "import pickle\n",
    "import matplotlib.pyplot as plt\n",
    "\n",
    "import torch\n",
    "import torch.nn as nn\n",
    "import torch.nn.functional as F\n",
    "from torchvision import transforms\n",
    "\n",
    "from cnn import Net\n",
    "\n",
    "%load_ext autoreload\n",
    "%autoreload 2"
   ]
  },
  {
   "cell_type": "code",
   "execution_count": 2,
   "metadata": {},
   "outputs": [
    {
     "name": "stdout",
     "output_type": "stream",
     "text": [
      "(4, 10939)\n"
     ]
    }
   ],
   "source": [
    "CLEANED_DIR = '/projectnb2/dl523/projects/trace_22/data/cleaned'\n",
    "# DATASET_PICKLE = [traces, images, tokens, expressions]\n",
    "path = os.path.join(CLEANED_DIR, 'dataset_cleaned_125.pkl')\n",
    "\n",
    "with open(path, 'rb') as f:\n",
    "    dataset = pickle.load(f)\n",
    "          \n",
    "print((len(dataset), len(dataset[0])))"
   ]
  },
  {
   "cell_type": "code",
   "execution_count": 3,
   "metadata": {},
   "outputs": [
    {
     "data": {
      "text/plain": [
       "125"
      ]
     },
     "execution_count": 3,
     "metadata": {},
     "output_type": "execute_result"
    }
   ],
   "source": [
    "v = []\n",
    "tokens = dataset[2]\n",
    "for token in tokens:\n",
    "    for item in token.split():\n",
    "        v.append(item)\n",
    "        \n",
    "np.unique(v)\n",
    "len(np.unique(v))"
   ]
  },
  {
   "cell_type": "code",
   "execution_count": 4,
   "metadata": {},
   "outputs": [
    {
     "ename": "NameError",
     "evalue": "name 'vocab' is not defined",
     "output_type": "error",
     "traceback": [
      "\u001b[0;31m---------------------------------------------------------------------------\u001b[0m",
      "\u001b[0;31mNameError\u001b[0m                                 Traceback (most recent call last)",
      "\u001b[0;32m<ipython-input-4-c4aed7dab6ea>\u001b[0m in \u001b[0;36m<module>\u001b[0;34m\u001b[0m\n\u001b[1;32m     14\u001b[0m     \u001b[0;32mreturn\u001b[0m \u001b[0mremoved\u001b[0m\u001b[0;34m,\u001b[0m \u001b[0mdataset\u001b[0m\u001b[0;34m\u001b[0m\u001b[0;34m\u001b[0m\u001b[0m\n\u001b[1;32m     15\u001b[0m \u001b[0;34m\u001b[0m\u001b[0m\n\u001b[0;32m---> 16\u001b[0;31m \u001b[0mrem_cleaned\u001b[0m\u001b[0;34m,\u001b[0m \u001b[0mdataset\u001b[0m \u001b[0;34m=\u001b[0m \u001b[0mclean\u001b[0m\u001b[0;34m(\u001b[0m\u001b[0mdataset\u001b[0m\u001b[0;34m,\u001b[0m \u001b[0mvocab\u001b[0m\u001b[0;34m=\u001b[0m\u001b[0mvocab\u001b[0m\u001b[0;34m)\u001b[0m\u001b[0;34m\u001b[0m\u001b[0;34m\u001b[0m\u001b[0m\n\u001b[0m",
      "\u001b[0;31mNameError\u001b[0m: name 'vocab' is not defined"
     ]
    }
   ],
   "source": [
    "def clean(dataset, vocab):\n",
    "    '''Remove samples for which there is a token not included in the vocabulary.'''\n",
    "    tokens = dataset[2]\n",
    "    removed = []\n",
    "    vocab = set(vocab)\n",
    "    print(len(dataset[0]))\n",
    "    for idx in reversed(range(len(tokens))):\n",
    "        for token in tokens[idx].split():\n",
    "            if not token in vocab:\n",
    "                print(idx, token)\n",
    "                removed.append(tuple(dataset[i].pop(idx) for i in range(4)))\n",
    "                \n",
    "    print(len(dataset[0]))\n",
    "    return removed, dataset\n",
    "                           \n",
    "rem_cleaned, dataset = clean(dataset, vocab=vocab)"
   ]
  },
  {
   "cell_type": "code",
   "execution_count": null,
   "metadata": {},
   "outputs": [],
   "source": [
    "CLEANED_DIR = '/projectnb2/dl523/projects/trace_22/data/cleaned'\n",
    "path = os.path.join(CLEANED_DIR, 'dataset_cleaned_125.pkl')\n",
    "with open(path, 'wb') as f:\n",
    "    pickle.dump(dataset, f)\n",
    "          \n",
    "print('Saved pickled dataset at ', path)"
   ]
  },
  {
   "cell_type": "code",
   "execution_count": null,
   "metadata": {},
   "outputs": [],
   "source": [
    "images, tokens = dataset[1], dataset[2]"
   ]
  },
  {
   "cell_type": "markdown",
   "metadata": {},
   "source": [
    "### Hold out"
   ]
  },
  {
   "cell_type": "code",
   "execution_count": null,
   "metadata": {},
   "outputs": [],
   "source": [
    "from sklearn.model_selection import train_test_split\n",
    "\n",
    "X_train, X_test, y_train, y_test = train_test_split(images, tokens, test_size=1/4)\n",
    "\n",
    "print(len(X_train))\n",
    "print(len(y_train))\n",
    "print(len(X_test))\n",
    "print(len(y_test))"
   ]
  },
  {
   "cell_type": "markdown",
   "metadata": {},
   "source": [
    "### Load vocab"
   ]
  },
  {
   "cell_type": "code",
   "execution_count": null,
   "metadata": {},
   "outputs": [],
   "source": [
    "# load vocabulary\n",
    "\n",
    "with open('/projectnb2/dl523/projects/trace_22/data/vocab.txt', 'r') as f:\n",
    "    vocab = f.read().split('\\n')\n",
    "    \n",
    "print(len(vocab))"
   ]
  },
  {
   "cell_type": "markdown",
   "metadata": {},
   "source": [
    "### Visualize target lengths (i.e. how many tokens is one expression?)"
   ]
  },
  {
   "cell_type": "code",
   "execution_count": null,
   "metadata": {},
   "outputs": [],
   "source": [
    "L = []\n",
    "\n",
    "for tok in tokens:\n",
    "    L.append(len(tok))\n",
    "    \n",
    "print(np.max(L))\n",
    "print(np.argmax(L))\n",
    "plt.hist(L, bins=40)\n",
    "plt.ylabel('occurences')\n",
    "plt.xlabel('token length')"
   ]
  },
  {
   "cell_type": "code",
   "execution_count": 38,
   "metadata": {},
   "outputs": [
    {
     "data": {
      "text/plain": [
       "<matplotlib.image.AxesImage at 0x2aacff21c5f8>"
      ]
     },
     "execution_count": 38,
     "metadata": {},
     "output_type": "execute_result"
    },
    {
     "data": {
      "image/png": "[encoded data removed]",
      "text/plain": [
       "<Figure size 432x288 with 1 Axes>"
      ]
     },
     "metadata": {
      "needs_background": "light"
     },
     "output_type": "display_data"
    }
   ],
   "source": [
    "plt.imshow(images[7278], cmap='gray')"
   ]
  },
  {
   "cell_type": "markdown",
   "metadata": {},
   "source": [
    "### Cutoff tokens longer than length 150\n",
    "\n",
    "Like mentioned in the paper (A Visual Latex Decompiler), we remove training samples with tokens longer than 150. However, we leave them in for testing.\n",
    "\n",
    "We would thus remove 23 samples from the training set."
   ]
  },
  {
   "cell_type": "code",
   "execution_count": 39,
   "metadata": {},
   "outputs": [
    {
     "data": {
      "text/plain": [
       "0.0021008403361344537"
      ]
     },
     "execution_count": 39,
     "metadata": {},
     "output_type": "execute_result"
    }
   ],
   "source": [
    "L = np.array(L)\n",
    "\n",
    "(L>150).sum()\n",
    "((L>150).sum()) / len(L)"
   ]
  },
  {
   "cell_type": "code",
   "execution_count": 57,
   "metadata": {},
   "outputs": [
    {
     "name": "stdout",
     "output_type": "stream",
     "text": [
      "7472\n",
      "6369\n",
      "5776\n",
      "5476\n",
      "5238\n",
      "4570\n",
      "4172\n",
      "3649\n",
      "3177\n",
      "3128\n",
      "2801\n",
      "2546\n",
      "2448\n",
      "2337\n",
      "1056\n",
      "472\n"
     ]
    }
   ],
   "source": [
    "def cutoff(X, y, token_length):\n",
    "    '''Remove samples from X an y where y has a token length > 150.'''\n",
    "    removed = []\n",
    "    for idx in reversed(range(len(y))):\n",
    "        if len(y[idx]) > token_length:\n",
    "            print(idx)\n",
    "            removed.append((X[idx], y[idx]))\n",
    "    return removed\n",
    "                           \n",
    "rem = cutoff(X_train, y_train, token_length=150)"
   ]
  },
  {
   "cell_type": "markdown",
   "metadata": {},
   "source": [
    "## Dataset object"
   ]
  },
  {
   "cell_type": "code",
   "execution_count": 9,
   "metadata": {},
   "outputs": [
    {
     "data": {
      "text/plain": [
       "array(['!', \"'\", '(', ')', '+', ',', '-', '.', '/', '0', '1', '2', '3',\n",
       "       '4', '5', '6', '7', '8', '9', '<', '=', '>', 'A', 'B', 'C', 'E',\n",
       "       'F', 'G', 'H', 'I', 'L', 'M', 'N', 'O', 'P', 'R', 'S', 'T', 'V',\n",
       "       'X', 'Y', '[', '\\\\', '\\\\!', '\\\\;', '\\\\Big', '\\\\Bigg', '\\\\Delta',\n",
       "       '\\\\alpha', '\\\\beta', '\\\\cdot', '\\\\cdots', '\\\\cos', '\\\\div',\n",
       "       '\\\\exists', '\\\\forall', '\\\\frac', '\\\\gamma', '\\\\geq', '\\\\gt',\n",
       "       '\\\\hbox', '\\\\in', '\\\\infty', '\\\\int', '\\\\lambda', '\\\\lbrack',\n",
       "       '\\\\ldots', '\\\\left', '\\\\leq', '\\\\lim', '\\\\limits', '\\\\log', '\\\\lt',\n",
       "       '\\\\mathrm', '\\\\mbox', '\\\\mu', '\\\\neq', '\\\\parallel', '\\\\phi',\n",
       "       '\\\\pi', '\\\\pm', '\\\\prime', '\\\\rbrack', '\\\\right', '\\\\rightarrow',\n",
       "       '\\\\sigma', '\\\\sin', '\\\\sqrt', '\\\\sum', '\\\\tan', '\\\\theta',\n",
       "       '\\\\times', '\\\\{', '\\\\}', ']', '^', '_', 'a', 'b', 'c', 'd', 'e',\n",
       "       'f', 'g', 'h', 'i', 'j', 'k', 'l', 'm', 'n', 'o', 'p', 'q', 'r',\n",
       "       's', 't', 'u', 'v', 'w', 'x', 'y', 'z', '{', '|', '}'],\n",
       "      dtype='<U11')"
      ]
     },
     "execution_count": 9,
     "metadata": {},
     "output_type": "execute_result"
    }
   ],
   "source": [
    "# load encoder\n",
    "DATA = '/projectnb/dl523/projects/trace_22/data/'\n",
    "\n",
    "vocab = np.load(DATA + 'labelencoding.npy')\n",
    "vocab"
   ]
  },
  {
   "cell_type": "code",
   "execution_count": 10,
   "metadata": {},
   "outputs": [],
   "source": [
    "from tools.encode import train_label_encoding, OneHotEncoder\n",
    "\n",
    "label_enc = train_label_encoding(vocab)"
   ]
  },
  {
   "cell_type": "code",
   "execution_count": 40,
   "metadata": {},
   "outputs": [],
   "source": [
    "from torch.utils.data import Dataset\n",
    "from torchvision import datasets\n",
    "from torch.utils.data import DataLoader\n",
    "\n",
    "input_shape=(250, 490)\n",
    "\n",
    "transform = transforms.Compose([\n",
    "            transforms.ToPILImage(),\n",
    "            transforms.Resize(input_shape),\n",
    "            transforms.ToTensor(), # This also normalizes the image\n",
    "        ])\n",
    "\n",
    "target_transform = OneHotEncoder(label_enc)\n",
    "\n",
    "class ImgTokenDataset(Dataset):\n",
    "    def __init__(self, images, tokens, transform=transform, target_transform=target_transform, vocab=vocab):\n",
    "        self.images = images\n",
    "        self.tokens = tokens\n",
    "        self.transform = transform\n",
    "        self.target_transform = target_transform\n",
    "        self.vocab = vocab\n",
    "\n",
    "    def __len__(self):\n",
    "        return len(self.images)\n",
    "\n",
    "    def __getitem__(self, idx):\n",
    "        image = self.images[idx]\n",
    "        target = self.tokens[idx]\n",
    "        if self.transform:\n",
    "            image = self.transform(image)\n",
    "        if self.target_transform:\n",
    "            target = self.target_transform(target)\n",
    "        return image, target\n",
    "    \n",
    "    \n",
    "train_data = ImgTokenDataset(X_train, y_train, transform=transform, target_transform=target_transform, vocab=vocab)\n",
    "    \n",
    "test_data = ImgTokenDataset(X_test, y_test, transform=transform, target_transform=target_transform, vocab=vocab)"
   ]
  },
  {
   "cell_type": "code",
   "execution_count": 219,
   "metadata": {},
   "outputs": [],
   "source": [
    "trainloader = DataLoader(train_data, batch_size=28, shuffle=True)\n",
    "testloader = DataLoader(test_data, batch_size=28, shuffle=True)"
   ]
  },
  {
   "cell_type": "markdown",
   "metadata": {},
   "source": [
    "## CNN Model"
   ]
  },
  {
   "cell_type": "code",
   "execution_count": 268,
   "metadata": {},
   "outputs": [
    {
     "name": "stdout",
     "output_type": "stream",
     "text": [
      "loading...\n",
      "cuda:0\n"
     ]
    },
    {
     "data": {
      "text/plain": [
       "Net(\n",
       "  (conv1): Conv2d(1, 6, kernel_size=(5, 5), stride=(1, 1))\n",
       "  (pool): AvgPool2d(kernel_size=2, stride=2, padding=0)\n",
       "  (conv2): Conv2d(6, 16, kernel_size=(3, 3), stride=(1, 1))\n",
       "  (fc1): Linear(in_features=115200, out_features=64, bias=True)\n",
       "  (fc2): Linear(in_features=64, out_features=32, bias=True)\n",
       "  (fc3): Linear(in_features=32, out_features=126, bias=True)\n",
       ")"
      ]
     },
     "execution_count": 268,
     "metadata": {},
     "output_type": "execute_result"
    }
   ],
   "source": [
    "from cnn import Net\n",
    "\n",
    "import torch.optim as optim\n",
    "print('loading...')\n",
    "net = Net(input_shape, vocab)\n",
    "\n",
    "criterion = nn.BCELoss()\n",
    "\n",
    "optimizer = optim.Adam(net.parameters(), lr=0.001)\n",
    "\n",
    "device = torch.device(\"cuda:0\" if torch.cuda.is_available() else \"cpu\")\n",
    "# if we set the hardware to GPU in the Notebook settings, this should print a CUDA device:\n",
    "# device = 'cpu'\n",
    "\n",
    "print(device)\n",
    "\n",
    "net.to(device)"
   ]
  },
  {
   "cell_type": "code",
   "execution_count": null,
   "metadata": {},
   "outputs": [],
   "source": [
    "for epoch in range(10):  # loop over the dataset multiple times\n",
    "    running_loss = 0.0\n",
    "    print('start')\n",
    "    for i, data in enumerate(trainloader, 0):\n",
    "        inputs, labels = data\n",
    "        inputs, labels = inputs.to(device), labels.to(device)\n",
    "\n",
    "        optimizer.zero_grad()   # zero the gradient buffers\n",
    "        outputs = net(inputs)\n",
    "        loss = criterion(outputs, labels)\n",
    "        loss.backward()\n",
    "        optimizer.step()\n",
    "\n",
    "\n",
    "        # print statistics\n",
    "        running_loss += loss.item()\n",
    "        if i % 2000 == 1999:    # print every 2000 mini-batches\n",
    "            print('[%d, %5d] loss: %.3f' %\n",
    "                  (epoch + 1, i + 1, running_loss / 2000))\n",
    "            running_loss = 0.0\n",
    "\n",
    "print('Finished Training')"
   ]
  },
  {
   "cell_type": "code",
   "execution_count": 238,
   "metadata": {},
   "outputs": [],
   "source": [
    "def test_cnn(net, testLoader, threshold=0.5):\n",
    "    correct = []\n",
    "    total = []\n",
    "    \n",
    "    with torch.no_grad():\n",
    "        for idx, data in enumerate(testLoader):\n",
    "            inputs, labels = data[0].to(device), data[1].to(device)\n",
    "            outputs = net(inputs)\n",
    "            \n",
    "            for sample in range(len(outputs.cpu())):\n",
    "                preds = np.where(outputs[sample].cpu()>threshold)[0]\n",
    "                labels_ = np.where(labels[sample].cpu()==1)[0]\n",
    "                if len(labels_) < 1:\n",
    "                    continue\n",
    "                intersection = set(preds) & set(labels_)\n",
    "                total.append(len(labels_))\n",
    "                correct.append(len(intersection))\n",
    "        return np.array(correct), np.array(total)"
   ]
  },
  {
   "cell_type": "code",
   "execution_count": 243,
   "metadata": {},
   "outputs": [],
   "source": [
    "correct, total = test_cnn(net, testloader)"
   ]
  },
  {
   "cell_type": "code",
   "execution_count": 240,
   "metadata": {},
   "outputs": [
    {
     "data": {
      "text/plain": [
       "2734"
      ]
     },
     "execution_count": 240,
     "metadata": {},
     "output_type": "execute_result"
    }
   ],
   "source": [
    "len(correct)"
   ]
  },
  {
   "cell_type": "code",
   "execution_count": 244,
   "metadata": {},
   "outputs": [
    {
     "name": "stdout",
     "output_type": "stream",
     "text": [
      "0.24382155987974446\n",
      "0.33117625994391686\n"
     ]
    }
   ],
   "source": [
    "acc = correct / total\n",
    "\n",
    "print(acc.std())\n",
    "print(acc.mean())"
   ]
  },
  {
   "cell_type": "markdown",
   "metadata": {},
   "source": [
    "# Cross validation with 5 folds"
   ]
  },
  {
   "cell_type": "code",
   "execution_count": 274,
   "metadata": {
    "scrolled": true
   },
   "outputs": [
    {
     "name": "stdout",
     "output_type": "stream",
     "text": [
      "Fold:  0\n",
      "Epoch:  0\n",
      "[1,    50] loss: 0.199\n",
      "[1,   100] loss: 0.185\n",
      "[1,   150] loss: 0.179\n",
      "[1,   200] loss: 0.197\n",
      "[1,   250] loss: 0.173\n",
      "[1,   300] loss: 0.175\n",
      "Epoch:  1\n",
      "[2,    50] loss: 0.158\n",
      "[2,   100] loss: 0.166\n",
      "[2,   150] loss: 0.143\n",
      "[2,   200] loss: 0.179\n",
      "[2,   250] loss: 0.173\n",
      "[2,   300] loss: 0.176\n",
      "Epoch:  2\n",
      "[3,    50] loss: 0.163\n",
      "[3,   100] loss: 0.154\n",
      "[3,   150] loss: 0.165\n",
      "[3,   200] loss: 0.155\n",
      "[3,   250] loss: 0.146\n",
      "[3,   300] loss: 0.153\n",
      "Epoch:  3\n",
      "[4,    50] loss: 0.148\n",
      "[4,   100] loss: 0.162\n",
      "[4,   150] loss: 0.133\n",
      "[4,   200] loss: 0.137\n",
      "[4,   250] loss: 0.143\n",
      "[4,   300] loss: 0.162\n",
      "Epoch:  4\n",
      "[5,    50] loss: 0.156\n",
      "[5,   100] loss: 0.146\n",
      "[5,   150] loss: 0.128\n",
      "[5,   200] loss: 0.149\n",
      "[5,   250] loss: 0.136\n",
      "[5,   300] loss: 0.148\n",
      "Epoch:  5\n",
      "[6,    50] loss: 0.146\n",
      "[6,   100] loss: 0.143\n",
      "[6,   150] loss: 0.135\n",
      "[6,   200] loss: 0.131\n",
      "[6,   250] loss: 0.147\n",
      "[6,   300] loss: 0.124\n",
      "Epoch:  6\n",
      "[7,    50] loss: 0.117\n",
      "[7,   100] loss: 0.139\n",
      "[7,   150] loss: 0.140\n",
      "[7,   200] loss: 0.138\n",
      "[7,   250] loss: 0.130\n",
      "[7,   300] loss: 0.131\n",
      "Epoch:  7\n",
      "[8,    50] loss: 0.109\n",
      "[8,   100] loss: 0.109\n",
      "[8,   150] loss: 0.137\n",
      "[8,   200] loss: 0.141\n",
      "[8,   250] loss: 0.118\n",
      "[8,   300] loss: 0.118\n",
      "Epoch:  8\n",
      "[9,    50] loss: 0.093\n",
      "[9,   100] loss: 0.109\n",
      "[9,   150] loss: 0.113\n",
      "[9,   200] loss: 0.101\n",
      "[9,   250] loss: 0.124\n",
      "[9,   300] loss: 0.112\n",
      "Epoch:  9\n",
      "[10,    50] loss: 0.112\n",
      "[10,   100] loss: 0.100\n",
      "[10,   150] loss: 0.112\n",
      "[10,   200] loss: 0.091\n",
      "[10,   250] loss: 0.102\n",
      "[10,   300] loss: 0.113\n",
      "Accuracy: \n",
      "0.358 +/- 0.12\n",
      "\n",
      "Fold:  1\n",
      "Epoch:  0\n",
      "[1,    50] loss: 0.209\n",
      "[1,   100] loss: 0.160\n",
      "[1,   150] loss: 0.165\n",
      "[1,   200] loss: 0.168\n",
      "[1,   250] loss: 0.165\n",
      "[1,   300] loss: 0.168\n",
      "Epoch:  1\n",
      "[2,    50] loss: 0.176\n",
      "[2,   100] loss: 0.172\n",
      "[2,   150] loss: 0.172\n",
      "[2,   200] loss: 0.162\n",
      "[2,   250] loss: 0.147\n",
      "[2,   300] loss: 0.153\n",
      "Epoch:  2\n",
      "[3,    50] loss: 0.157\n",
      "[3,   100] loss: 0.135\n",
      "[3,   150] loss: 0.158\n",
      "[3,   200] loss: 0.168\n",
      "[3,   250] loss: 0.160\n",
      "[3,   300] loss: 0.159\n",
      "Epoch:  3\n",
      "[4,    50] loss: 0.131\n",
      "[4,   100] loss: 0.148\n",
      "[4,   150] loss: 0.139\n",
      "[4,   200] loss: 0.145\n",
      "[4,   250] loss: 0.148\n",
      "[4,   300] loss: 0.160\n",
      "Epoch:  4\n",
      "[5,    50] loss: 0.133\n",
      "[5,   100] loss: 0.136\n",
      "[5,   150] loss: 0.154\n",
      "[5,   200] loss: 0.135\n",
      "[5,   250] loss: 0.139\n",
      "[5,   300] loss: 0.137\n",
      "Epoch:  5\n",
      "[6,    50] loss: 0.137\n",
      "[6,   100] loss: 0.119\n",
      "[6,   150] loss: 0.135\n",
      "[6,   200] loss: 0.128\n",
      "[6,   250] loss: 0.125\n",
      "[6,   300] loss: 0.137\n",
      "Epoch:  6\n",
      "[7,    50] loss: 0.128\n",
      "[7,   100] loss: 0.120\n",
      "[7,   150] loss: 0.135\n",
      "[7,   200] loss: 0.114\n",
      "[7,   250] loss: 0.121\n",
      "[7,   300] loss: 0.110\n",
      "Epoch:  7\n",
      "[8,    50] loss: 0.102\n",
      "[8,   100] loss: 0.112\n",
      "[8,   150] loss: 0.105\n",
      "[8,   200] loss: 0.111\n",
      "[8,   250] loss: 0.119\n",
      "[8,   300] loss: 0.110\n",
      "Epoch:  8\n",
      "[9,    50] loss: 0.094\n",
      "[9,   100] loss: 0.102\n",
      "[9,   150] loss: 0.098\n",
      "[9,   200] loss: 0.119\n",
      "[9,   250] loss: 0.100\n",
      "[9,   300] loss: 0.112\n",
      "Epoch:  9\n",
      "[10,    50] loss: 0.107\n",
      "[10,   100] loss: 0.099\n",
      "[10,   150] loss: 0.104\n",
      "[10,   200] loss: 0.097\n",
      "[10,   250] loss: 0.102\n",
      "[10,   300] loss: 0.100\n",
      "Accuracy: \n",
      "0.335 +/- 0.12\n",
      "\n",
      "Fold:  2\n",
      "Epoch:  0\n",
      "[1,    50] loss: 0.190\n",
      "[1,   100] loss: 0.180\n",
      "[1,   150] loss: 0.186\n",
      "[1,   200] loss: 0.175\n",
      "[1,   250] loss: 0.170\n",
      "[1,   300] loss: 0.170\n",
      "Epoch:  1\n",
      "[2,    50] loss: 0.166\n",
      "[2,   100] loss: 0.170\n",
      "[2,   150] loss: 0.175\n",
      "[2,   200] loss: 0.161\n",
      "[2,   250] loss: 0.151\n",
      "[2,   300] loss: 0.147\n",
      "Epoch:  2\n",
      "[3,    50] loss: 0.154\n",
      "[3,   100] loss: 0.174\n",
      "[3,   150] loss: 0.160\n",
      "[3,   200] loss: 0.147\n",
      "[3,   250] loss: 0.156\n",
      "[3,   300] loss: 0.156\n",
      "Epoch:  3\n",
      "[4,    50] loss: 0.185\n",
      "[4,   100] loss: 0.146\n",
      "[4,   150] loss: 0.143\n",
      "[4,   200] loss: 0.137\n",
      "[4,   250] loss: 0.155\n",
      "[4,   300] loss: 0.135\n",
      "Epoch:  4\n",
      "[5,    50] loss: 0.131\n",
      "[5,   100] loss: 0.157\n",
      "[5,   150] loss: 0.176\n",
      "[5,   200] loss: 0.145\n",
      "[5,   250] loss: 0.148\n",
      "[5,   300] loss: 0.147\n",
      "Epoch:  5\n",
      "[6,    50] loss: 0.138\n",
      "[6,   100] loss: 0.123\n",
      "[6,   150] loss: 0.146\n",
      "[6,   200] loss: 0.119\n",
      "[6,   250] loss: 0.127\n",
      "[6,   300] loss: 0.141\n",
      "Epoch:  6\n",
      "[7,    50] loss: 0.117\n",
      "[7,   100] loss: 0.116\n",
      "[7,   150] loss: 0.127\n",
      "[7,   200] loss: 0.103\n",
      "[7,   250] loss: 0.117\n",
      "[7,   300] loss: 0.133\n",
      "Epoch:  7\n",
      "[8,    50] loss: 0.126\n",
      "[8,   100] loss: 0.128\n",
      "[8,   150] loss: 0.122\n",
      "[8,   200] loss: 0.120\n",
      "[8,   250] loss: 0.114\n",
      "[8,   300] loss: 0.112\n",
      "Epoch:  8\n",
      "[9,    50] loss: 0.106\n",
      "[9,   100] loss: 0.110\n",
      "[9,   150] loss: 0.102\n",
      "[9,   200] loss: 0.118\n",
      "[9,   250] loss: 0.111\n",
      "[9,   300] loss: 0.129\n",
      "Epoch:  9\n",
      "[10,    50] loss: 0.118\n",
      "[10,   100] loss: 0.100\n",
      "[10,   150] loss: 0.100\n",
      "[10,   200] loss: 0.100\n",
      "[10,   250] loss: 0.107\n",
      "[10,   300] loss: 0.101\n",
      "Accuracy: \n",
      "0.343 +/- 0.12\n",
      "\n",
      "Fold:  3\n",
      "Epoch:  0\n",
      "[1,    50] loss: 0.222\n",
      "[1,   100] loss: 0.172\n",
      "[1,   150] loss: 0.176\n",
      "[1,   200] loss: 0.183\n",
      "[1,   250] loss: 0.200\n",
      "[1,   300] loss: 0.170\n",
      "Epoch:  1\n",
      "[2,    50] loss: 0.165\n",
      "[2,   100] loss: 0.172\n",
      "[2,   150] loss: 0.148\n",
      "[2,   200] loss: 0.174\n",
      "[2,   250] loss: 0.183\n",
      "[2,   300] loss: 0.158\n",
      "Epoch:  2\n",
      "[3,    50] loss: 0.167\n",
      "[3,   100] loss: 0.163\n",
      "[3,   150] loss: 0.142\n",
      "[3,   200] loss: 0.162\n",
      "[3,   250] loss: 0.157\n",
      "[3,   300] loss: 0.144\n",
      "Epoch:  3\n",
      "[4,    50] loss: 0.153\n",
      "[4,   100] loss: 0.132\n",
      "[4,   150] loss: 0.143\n",
      "[4,   200] loss: 0.161\n",
      "[4,   250] loss: 0.166\n",
      "[4,   300] loss: 0.143\n",
      "Epoch:  4\n",
      "[5,    50] loss: 0.148\n",
      "[5,   100] loss: 0.134\n",
      "[5,   150] loss: 0.161\n",
      "[5,   200] loss: 0.125\n",
      "[5,   250] loss: 0.144\n",
      "[5,   300] loss: 0.152\n",
      "Epoch:  5\n",
      "[6,    50] loss: 0.143\n",
      "[6,   100] loss: 0.154\n",
      "[6,   150] loss: 0.136\n",
      "[6,   200] loss: 0.149\n",
      "[6,   250] loss: 0.132\n",
      "[6,   300] loss: 0.152\n",
      "Epoch:  6\n",
      "[7,    50] loss: 0.119\n",
      "[7,   100] loss: 0.124\n",
      "[7,   150] loss: 0.131\n",
      "[7,   200] loss: 0.137\n",
      "[7,   250] loss: 0.140\n",
      "[7,   300] loss: 0.151\n",
      "Epoch:  7\n",
      "[8,    50] loss: 0.134\n",
      "[8,   100] loss: 0.141\n",
      "[8,   150] loss: 0.130\n",
      "[8,   200] loss: 0.116\n",
      "[8,   250] loss: 0.130\n",
      "[8,   300] loss: 0.128\n",
      "Epoch:  8\n",
      "[9,    50] loss: 0.103\n",
      "[9,   100] loss: 0.140\n",
      "[9,   150] loss: 0.134\n",
      "[9,   200] loss: 0.128\n",
      "[9,   250] loss: 0.118\n",
      "[9,   300] loss: 0.131\n",
      "Epoch:  9\n",
      "[10,    50] loss: 0.123\n",
      "[10,   100] loss: 0.115\n",
      "[10,   150] loss: 0.109\n",
      "[10,   200] loss: 0.130\n",
      "[10,   250] loss: 0.110\n",
      "[10,   300] loss: 0.108\n",
      "Accuracy: \n",
      "0.331 +/- 0.12\n",
      "\n",
      "Fold:  4\n",
      "Epoch:  0\n",
      "[1,    50] loss: 0.205\n",
      "[1,   100] loss: 0.182\n",
      "[1,   150] loss: 0.181\n",
      "[1,   200] loss: 0.189\n",
      "[1,   250] loss: 0.159\n",
      "[1,   300] loss: 0.153\n",
      "Epoch:  1\n",
      "[2,    50] loss: 0.143\n",
      "[2,   100] loss: 0.156\n",
      "[2,   150] loss: 0.161\n",
      "[2,   200] loss: 0.170\n",
      "[2,   250] loss: 0.151\n",
      "[2,   300] loss: 0.165\n",
      "Epoch:  2\n",
      "[3,    50] loss: 0.159\n",
      "[3,   100] loss: 0.153\n",
      "[3,   150] loss: 0.161\n",
      "[3,   200] loss: 0.152\n",
      "[3,   250] loss: 0.156\n",
      "[3,   300] loss: 0.149\n",
      "Epoch:  3\n",
      "[4,    50] loss: 0.148\n",
      "[4,   100] loss: 0.160\n",
      "[4,   150] loss: 0.162\n",
      "[4,   200] loss: 0.150\n",
      "[4,   250] loss: 0.147\n",
      "[4,   300] loss: 0.142\n",
      "Epoch:  4\n",
      "[5,    50] loss: 0.162\n",
      "[5,   100] loss: 0.150\n",
      "[5,   150] loss: 0.157\n",
      "[5,   200] loss: 0.144\n",
      "[5,   250] loss: 0.152\n",
      "[5,   300] loss: 0.154\n",
      "Epoch:  5\n",
      "[6,    50] loss: 0.153\n",
      "[6,   100] loss: 0.144\n",
      "[6,   150] loss: 0.149\n",
      "[6,   200] loss: 0.137\n",
      "[6,   250] loss: 0.140\n",
      "[6,   300] loss: 0.127\n",
      "Epoch:  6\n",
      "[7,    50] loss: 0.135\n",
      "[7,   100] loss: 0.142\n",
      "[7,   150] loss: 0.139\n",
      "[7,   200] loss: 0.120\n",
      "[7,   250] loss: 0.125\n",
      "[7,   300] loss: 0.144\n",
      "Epoch:  7\n",
      "[8,    50] loss: 0.122\n",
      "[8,   100] loss: 0.117\n",
      "[8,   150] loss: 0.125\n",
      "[8,   200] loss: 0.125\n",
      "[8,   250] loss: 0.119\n",
      "[8,   300] loss: 0.119\n",
      "Epoch:  8\n",
      "[9,    50] loss: 0.118\n",
      "[9,   100] loss: 0.118\n",
      "[9,   150] loss: 0.138\n",
      "[9,   200] loss: 0.116\n",
      "[9,   250] loss: 0.128\n",
      "[9,   300] loss: 0.117\n",
      "Epoch:  9\n",
      "[10,    50] loss: 0.113\n",
      "[10,   100] loss: 0.104\n",
      "[10,   150] loss: 0.108\n",
      "[10,   200] loss: 0.127\n",
      "[10,   250] loss: 0.115\n",
      "[10,   300] loss: 0.117\n",
      "Accuracy: \n",
      "0.349 +/- 0.12\n",
      "\n",
      "Finished Training\n"
     ]
    }
   ],
   "source": [
    "from sklearn.model_selection import KFold\n",
    "cv = KFold(n_splits=5)\n",
    "cv.get_n_splits(images, tokens)\n",
    "\n",
    "ACC = []\n",
    "HIST = []\n",
    "\n",
    "BS = 28\n",
    "    \n",
    "data = ImgTokenDataset(images, tokens, transform=transform, target_transform=target_transform, vocab=vocab)\n",
    "for fold, (train_index, test_index) in enumerate(cv.split(images)):\n",
    "    \n",
    "    HIST.append([])\n",
    "    \n",
    "    print('Fold: ', fold)\n",
    "    # Setup data\n",
    "\n",
    "    train_subsampler = torch.utils.data.SubsetRandomSampler(train_index)\n",
    "    test_subsampler = torch.utils.data.SubsetRandomSampler(test_index)\n",
    "\n",
    "    trainloader = torch.utils.data.DataLoader(\n",
    "                      data, \n",
    "                      batch_size=BS, sampler=train_subsampler)\n",
    "    testloader = torch.utils.data.DataLoader(\n",
    "                      data,\n",
    "                      batch_size=BS, sampler=test_subsampler)\n",
    "\n",
    "    # Model\n",
    "    net = Net(input_shape, vocab)\n",
    "    criterion = nn.BCELoss()\n",
    "    optimizer = optim.Adam(net.parameters(), lr=0.001)\n",
    "    net.to(device)\n",
    "    # Train\n",
    "    for epoch in range(10):  # loop over the dataset multiple times\n",
    "        print('Epoch: ', epoch)\n",
    "        for i, d in enumerate(trainloader, 0):\n",
    "            inputs, labels = d\n",
    "        \n",
    "            inputs, labels = inputs.to(device), labels.to(device)\n",
    "            #inputs = inputs.cuda()\n",
    "            #labels = labels.cuda()\n",
    "            optimizer.zero_grad()   # zero the gradient buffers\n",
    "            outputs = net(inputs)\n",
    "            loss = criterion(outputs, labels)\n",
    "            loss.backward()\n",
    "            optimizer.step()\n",
    "\n",
    "            # print statistics\n",
    "            if i % 50 == 49:\n",
    "                print('[%d, %5d] loss: %.3f' % (epoch + 1, i + 1, loss.item()))\n",
    "                HIST[fold].append(loss.item())\n",
    "                \n",
    "    correct, total = test_cnn(net, testloader)\n",
    "    acc = correct / total\n",
    "\n",
    "    print('Accuracy: ')\n",
    "    print(f'{acc.mean():.3f} +/- {(acc.std()/2):.2f}')\n",
    "    print()\n",
    "    ACC.append(acc)\n",
    "    \n",
    "                      \n",
    "print('Finished Training')"
   ]
  },
  {
   "cell_type": "code",
   "execution_count": 296,
   "metadata": {},
   "outputs": [
    {
     "name": "stdout",
     "output_type": "stream",
     "text": [
      "0.34337621221654757\n",
      "0.009582636488895168\n"
     ]
    }
   ],
   "source": [
    "mean_accs = []\n",
    "for vals in ACC:\n",
    "    mean_accs.append(np.mean(vals))\n",
    "\n",
    "print(np.mean(mean_accs))\n",
    "print(np.std(mean_accs))"
   ]
  },
  {
   "cell_type": "code",
   "execution_count": 298,
   "metadata": {},
   "outputs": [
    {
     "data": {
      "image/png": "[encoded data removed]",
      "text/plain": [
       "<Figure size 864x576 with 1 Axes>"
      ]
     },
     "metadata": {
      "needs_background": "light"
     },
     "output_type": "display_data"
    }
   ],
   "source": [
    "plt.figure(figsize=(12,8))\n",
    "\n",
    "for fold in range(5):\n",
    "    plt.plot(list(range(len(HIST[fold]))), HIST[fold], label=f'fold {fold}', alpha=0.5)\n",
    "    \n",
    "# plt.xticks(labels=str(50*np.arange(len(HIST[fold]))))\n",
    "plt.xlabel('iterations * 50')\n",
    "plt.ylabel('training loss')\n",
    "plt.legend()\n",
    "plt.grid()"
   ]
  },
  {
   "cell_type": "code",
   "execution_count": null,
   "metadata": {},
   "outputs": [],
   "source": []
  }
 ],
 "metadata": {
  "kernelspec": {
   "display_name": "Python 3",
   "language": "python",
   "name": "python3"
  },
  "language_info": {
   "codemirror_mode": {
    "name": "ipython",
    "version": 3
   },
   "file_extension": ".py",
   "mimetype": "text/x-python",
   "name": "python",
   "nbconvert_exporter": "python",
   "pygments_lexer": "ipython3",
   "version": "3.6.9"
  }
 },
 "nbformat": 4,
 "nbformat_minor": 4
}
