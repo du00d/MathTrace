{
 "cells": [
  {
   "cell_type": "markdown",
   "metadata": {},
   "source": [
    "# Implementing TorchCDE - Neural Controlled Differential Equations"
   ]
  },
  {
   "cell_type": "code",
   "execution_count": 1,
   "metadata": {},
   "outputs": [],
   "source": [
    "import numpy as np\n",
    "import sklearn\n",
    "import os\n",
    "import pickle\n",
    "import matplotlib.pyplot as plt\n",
    "\n",
    "import torch\n",
    "import torch.nn as nn\n",
    "import torch.nn.functional as F\n",
    "from torchvision import transforms\n",
    "\n",
    "%load_ext autoreload\n",
    "%autoreload 2"
   ]
  },
  {
   "cell_type": "code",
   "execution_count": 2,
   "metadata": {},
   "outputs": [],
   "source": [
    "import torchcde"
   ]
  },
  {
   "cell_type": "markdown",
   "metadata": {},
   "source": [
    "## Load dataset\n",
    "\n",
    "**Format**: \n",
    "\n",
    "$ [traces, images, tokens, expressions] $"
   ]
  },
  {
   "cell_type": "code",
   "execution_count": 3,
   "metadata": {},
   "outputs": [
    {
     "name": "stdout",
     "output_type": "stream",
     "text": [
      "(4, 10939)\n"
     ]
    }
   ],
   "source": [
    "DATA_DIR = '/projectnb2/dl523/projects/trace_22/data/'\n",
    "# DATASET_PICKLE = [traces, images, tokens, expressions]\n",
    "path = os.path.join(DATA_DIR, 'cleaned/dataset_cleaned_125.pkl')\n",
    "\n",
    "with open(path, 'rb') as f:\n",
    "    dataset = pickle.load(f)\n",
    "          \n",
    "print((len(dataset), len(dataset[0])))"
   ]
  },
  {
   "cell_type": "code",
   "execution_count": 4,
   "metadata": {},
   "outputs": [],
   "source": [
    "traces, images, tokens = dataset[0], dataset[1], dataset[2]"
   ]
  },
  {
   "cell_type": "code",
   "execution_count": 5,
   "metadata": {},
   "outputs": [
    {
     "data": {
      "text/plain": [
       "10939"
      ]
     },
     "execution_count": 5,
     "metadata": {},
     "output_type": "execute_result"
    }
   ],
   "source": [
    "len(traces)"
   ]
  },
  {
   "cell_type": "markdown",
   "metadata": {},
   "source": [
    "### Visualize trace lengths"
   ]
  },
  {
   "cell_type": "code",
   "execution_count": 6,
   "metadata": {},
   "outputs": [],
   "source": [
    "trace_lengths = []\n",
    "\n",
    "for sample, trace in enumerate(traces):\n",
    "    x, y = [], []\n",
    "    for i in range(len(trace[0])):\n",
    "        x.extend(trace[0][i])\n",
    "        y.extend(trace[1][i])\n",
    "        \n",
    "    assert len(x)==len(y)\n",
    "    trace_lengths.append(len(x))"
   ]
  },
  {
   "cell_type": "code",
   "execution_count": 7,
   "metadata": {},
   "outputs": [
    {
     "name": "stdout",
     "output_type": "stream",
     "text": [
      "6581\n",
      "8030\n"
     ]
    },
    {
     "data": {
      "text/plain": [
       "Text(0.5, 0, 'trace length')"
      ]
     },
     "execution_count": 7,
     "metadata": {},
     "output_type": "execute_result"
    },
    {
     "data": {
      "image/png": "[encoded data removed]",
      "text/plain": [
       "<Figure size 720x432 with 1 Axes>"
      ]
     },
     "metadata": {
      "needs_background": "light"
     },
     "output_type": "display_data"
    }
   ],
   "source": [
    "print(np.max(trace_lengths))\n",
    "print(np.argmax(trace_lengths))\n",
    "plt.figure(figsize=(10,6))\n",
    "plt.hist(trace_lengths, bins=40)\n",
    "plt.ylabel('counts')\n",
    "plt.xlabel('trace length')\n",
    "#plt.savefig('./figures/trace_lengths.jpg')"
   ]
  },
  {
   "cell_type": "code",
   "execution_count": 8,
   "metadata": {},
   "outputs": [
    {
     "name": "stdout",
     "output_type": "stream",
     "text": [
      "83\n",
      "0.007587530852911601\n"
     ]
    }
   ],
   "source": [
    "trace_lengths = np.array(trace_lengths)\n",
    "\n",
    "n = (trace_lengths > 2000).sum()\n",
    "\n",
    "print(n)\n",
    "print(n/len(trace_lengths))"
   ]
  },
  {
   "cell_type": "markdown",
   "metadata": {},
   "source": [
    "### Cutoff expressoins where traces have length > 2000"
   ]
  },
  {
   "cell_type": "code",
   "execution_count": 9,
   "metadata": {},
   "outputs": [],
   "source": [
    "def cutoff_traces(dataset, max_len):\n",
    "    '''Remove samples from X an y where y has a token length > 150.'''\n",
    "    traces, images, tokens = dataset[0], dataset[1], dataset[2]\n",
    "    \n",
    "    trace_lengths = []\n",
    "    for sample, trace in enumerate(traces):\n",
    "        x, y = [], []\n",
    "        for i in range(len(trace[0])):\n",
    "            x.extend(trace[0][i])\n",
    "            y.extend(trace[1][i])\n",
    "\n",
    "        assert len(x)==len(y)\n",
    "        trace_lengths.append(len(x))\n",
    "        \n",
    "    trace_lengths = np.array(trace_lengths)\n",
    "    to_keep = list(np.where(trace_lengths > max_len)[0])\n",
    "    removed = []\n",
    "    for idx in reversed(to_keep):\n",
    "#         print(idx)\n",
    "        removed.append([dataset[i].pop(idx) for i in range(4)])\n",
    "    return removed\n",
    "                           \n",
    "rem = cutoff_traces(dataset, max_len=2000)"
   ]
  },
  {
   "cell_type": "code",
   "execution_count": 10,
   "metadata": {},
   "outputs": [
    {
     "data": {
      "text/plain": [
       "83"
      ]
     },
     "execution_count": 10,
     "metadata": {},
     "output_type": "execute_result"
    }
   ],
   "source": [
    "len(rem)"
   ]
  },
  {
   "cell_type": "code",
   "execution_count": 11,
   "metadata": {},
   "outputs": [],
   "source": [
    "traces, images, tokens = dataset[0], dataset[1], dataset[2]"
   ]
  },
  {
   "cell_type": "code",
   "execution_count": 12,
   "metadata": {},
   "outputs": [
    {
     "data": {
      "text/plain": [
       "10856"
      ]
     },
     "execution_count": 12,
     "metadata": {},
     "output_type": "execute_result"
    }
   ],
   "source": [
    "len(traces)"
   ]
  },
  {
   "cell_type": "markdown",
   "metadata": {},
   "source": [
    "### Cutoff tokens longer than length 150\n",
    "\n",
    "Like mentioned in the paper (A Visual Latex Decompiler), we remove training samples with tokens longer than 150. However, we leave them in for testing.\n",
    "\n",
    "We would thus remove 23 samples from the training set."
   ]
  },
  {
   "cell_type": "code",
   "execution_count": 13,
   "metadata": {},
   "outputs": [
    {
     "name": "stdout",
     "output_type": "stream",
     "text": [
      "482\n",
      "7218\n"
     ]
    },
    {
     "data": {
      "text/plain": [
       "Text(0.5, 0, 'token length')"
      ]
     },
     "execution_count": 13,
     "metadata": {},
     "output_type": "execute_result"
    },
    {
     "data": {
      "image/png": "[encoded data removed]",
      "text/plain": [
       "<Figure size 720x432 with 1 Axes>"
      ]
     },
     "metadata": {
      "needs_background": "light"
     },
     "output_type": "display_data"
    }
   ],
   "source": [
    "L = []\n",
    "\n",
    "for tok in tokens:\n",
    "    L.append(len(tok))\n",
    "    \n",
    "print(np.max(L))\n",
    "print(np.argmax(L))\n",
    "plt.figure(figsize=(10,6))\n",
    "plt.hist(L, bins=40)\n",
    "plt.ylabel('occurences')\n",
    "plt.xlabel('token length')\n",
    "#plt.savefig('./figures/token_lengths.jpg')"
   ]
  },
  {
   "cell_type": "code",
   "execution_count": 14,
   "metadata": {},
   "outputs": [
    {
     "name": "stdout",
     "output_type": "stream",
     "text": [
      "8142\n",
      "8142\n",
      "2714\n",
      "2714\n"
     ]
    }
   ],
   "source": [
    "from sklearn.model_selection import train_test_split\n",
    "\n",
    "X_train, X_test, y_train, y_test = train_test_split(traces, tokens, test_size=1/4)\n",
    "\n",
    "print(len(X_train))\n",
    "print(len(y_train))\n",
    "print(len(X_test))\n",
    "print(len(y_test))"
   ]
  },
  {
   "cell_type": "code",
   "execution_count": 15,
   "metadata": {},
   "outputs": [
    {
     "name": "stdout",
     "output_type": "stream",
     "text": [
      "5988\n",
      "5357\n",
      "4819\n",
      "4739\n",
      "3221\n",
      "2995\n",
      "2426\n",
      "1690\n",
      "1546\n",
      "1343\n",
      "466\n",
      "14\n"
     ]
    }
   ],
   "source": [
    "def cutoff(X, y, token_length):\n",
    "    '''Remove samples from X an y where y has a token length > 150.'''\n",
    "    removed = []\n",
    "    for idx in reversed(range(len(y))):\n",
    "        if len(y[idx]) > token_length:\n",
    "            print(idx)\n",
    "            removed.append((X.pop(idx), y.pop(idx)))\n",
    "    return removed\n",
    "                           \n",
    "rem = cutoff(X_train, y_train, token_length=150)"
   ]
  },
  {
   "cell_type": "code",
   "execution_count": 16,
   "metadata": {},
   "outputs": [
    {
     "data": {
      "text/plain": [
       "8130"
      ]
     },
     "execution_count": 16,
     "metadata": {},
     "output_type": "execute_result"
    }
   ],
   "source": [
    "len(X_train)"
   ]
  },
  {
   "cell_type": "markdown",
   "metadata": {},
   "source": [
    "## Load vocabulary (unique LaTex tokens)"
   ]
  },
  {
   "cell_type": "code",
   "execution_count": 17,
   "metadata": {},
   "outputs": [],
   "source": [
    "from tools.encode import train_label_encoding, OneHotEncoder\n",
    "\n",
    "# load vocabulary\n",
    "DATA = '/projectnb/dl523/projects/trace_22/data/'\n",
    "\n",
    "vocab = np.load(DATA + 'labelencoding.npy')\n",
    "label_enc = train_label_encoding(vocab)"
   ]
  },
  {
   "cell_type": "markdown",
   "metadata": {},
   "source": [
    "## Torch Dataset object\n",
    "\n",
    "### Function for processing traces:\n",
    "\n",
    "* Pad to len 2000 with fill-forward\n",
    "* Log scale"
   ]
  },
  {
   "cell_type": "code",
   "execution_count": 18,
   "metadata": {},
   "outputs": [
    {
     "name": "stdout",
     "output_type": "stream",
     "text": [
      "torch.Size([200, 3])\n"
     ]
    },
    {
     "name": "stderr",
     "output_type": "stream",
     "text": [
      "<ipython-input-18-a12a0fbd1383>:22: UserWarning: Creating a tensor from a list of numpy.ndarrays is extremely slow. Please consider converting the list to a single numpy.ndarray with numpy.array() before converting to a tensor. (Triggered internally at  ../torch/csrc/utils/tensor_new.cpp:210.)\n",
      "  unpadded = torch.tensor([timechannel, x, y])\n"
     ]
    }
   ],
   "source": [
    "def process_trace(trace: np.ndarray,  skip_t=10, pad_len=200, fill='last', scale=True) -> np.ndarray:\n",
    "    x, y = [], []\n",
    "    timechannel = []\n",
    "    current_t = 0\n",
    "    for i in range(len(trace[0])):\n",
    "        x.extend(trace[0][i])\n",
    "        y.extend(trace[1][i])\n",
    "        current_segment_times = np.arange(len(trace[0][i])).astype(float)\n",
    "        timechannel.extend(current_t + current_segment_times)\n",
    "        current_t = current_t + skip_t + current_segment_times[-1]\n",
    "    \n",
    "    # Normalize time channel\n",
    "    timechannel = np.array(timechannel)\n",
    "    timechannel /= timechannel.max()\n",
    "    \n",
    "    # Log Scale \n",
    "    if scale==True:\n",
    "        x = torch.tensor(x).log()\n",
    "        y = torch.tensor(y).log()        \n",
    "    \n",
    "    # Append time channel\n",
    "    unpadded = torch.tensor([timechannel, x, y]) \n",
    "    \n",
    "    # Uniformly sample min(pad_len, trace_len) elements\n",
    "    unpadded_len = unpadded.shape[1]\n",
    "    sample_n_points = np.min([unpadded_len, pad_len])\n",
    "    mask = torch.zeros(unpadded_len, dtype=int)\n",
    "    mask[:sample_n_points] = 1\n",
    "    mask = mask[torch.randperm(len(mask))]\n",
    "    unpadded = unpadded[:,mask.to(torch.bool)]\n",
    "          \n",
    "    if unpadded.shape[1] < pad_len:\n",
    "        # Padding\n",
    "        if fill=='nan':\n",
    "            pad = torch.full((3, pad_len-unpadded.shape[1]), float('nan'))\n",
    "        elif fill=='last':\n",
    "            pad = unpadded[:,-1].unsqueeze(1).expand(-1, pad_len - unpadded.shape[1])\n",
    "        else: raise ValueError()        \n",
    "        return torch.cat([unpadded,pad], dim=1).T\n",
    "    else:\n",
    "        return unpadded.T\n",
    "    \n",
    "trace_tensor = process_trace(traces[2], skip_t=10, pad_len=200, scale=True)\n",
    "print(trace_tensor.shape)\n",
    "# print(trace_tensor)"
   ]
  },
  {
   "cell_type": "code",
   "execution_count": 19,
   "metadata": {},
   "outputs": [
    {
     "data": {
      "image/png": "[encoded data removed]",
      "text/plain": [
       "<Figure size 864x432 with 1 Axes>"
      ]
     },
     "metadata": {
      "needs_background": "light"
     },
     "output_type": "display_data"
    }
   ],
   "source": [
    "plt.figure(figsize=(12,6))\n",
    "plt.scatter(trace_tensor.T[1], trace_tensor.T[2], s=3)\n",
    "\n",
    "for i in range(trace_tensor.T.shape[1]):\n",
    "    x, y = trace_tensor.T[1, i], trace_tensor.T[2, i]\n",
    "    plt.annotate(trace_tensor.T[0, i].item(), (x, y), fontsize=8)\n",
    "plt.gca().invert_yaxis()\n",
    "# plt.savefig('timechannel.jpg')"
   ]
  },
  {
   "cell_type": "code",
   "execution_count": 19,
   "metadata": {},
   "outputs": [],
   "source": [
    "from torch.utils.data import Dataset\n",
    "from torchvision import datasets\n",
    "from torch.utils.data import DataLoader\n",
    "\n",
    "# input_shape=(250, 490)\n",
    "\n",
    "transform = process_trace\n",
    "\n",
    "target_transform = OneHotEncoder(label_enc)\n",
    "\n",
    "class TraceTokenDataset(Dataset):\n",
    "    def __init__(self, traces, tokens, transform=transform, target_transform=target_transform, vocab=vocab):\n",
    "        self.traces = traces\n",
    "        self.tokens = tokens\n",
    "        self.transform = transform\n",
    "        self.target_transform = target_transform\n",
    "        self.vocab = vocab\n",
    "\n",
    "    def __len__(self):\n",
    "        return len(self.traces)\n",
    "\n",
    "    def __getitem__(self, idx):\n",
    "        trace = self.traces[idx]\n",
    "        target = self.tokens[idx]\n",
    "        if self.transform:\n",
    "            trace = self.transform(trace)\n",
    "        if self.target_transform:\n",
    "            target = self.target_transform(target)\n",
    "        return trace, target\n",
    "    \n",
    "    \n",
    "train_data = TraceTokenDataset(X_train, y_train, transform=transform, target_transform=target_transform, vocab=vocab)\n",
    "    \n",
    "test_data = TraceTokenDataset(X_test, y_test, transform=transform, target_transform=target_transform, vocab=vocab)"
   ]
  },
  {
   "cell_type": "code",
   "execution_count": 45,
   "metadata": {},
   "outputs": [],
   "source": [
    "class CDEFunc(torch.nn.Module):\n",
    "    def __init__(self, input_channels, hidden_channels):\n",
    "        ######################\n",
    "        # input_channels is the number of input channels in the data X. (Determined by the data.)\n",
    "        # hidden_channels is the number of channels for z_t. (Determined by you!)\n",
    "        ######################\n",
    "        super(CDEFunc, self).__init__()\n",
    "        self.input_channels = input_channels\n",
    "        self.hidden_channels = hidden_channels\n",
    "        self.linear1 = torch.nn.Linear(hidden_channels, 128)\n",
    "        self.linear2 = torch.nn.Linear(128, 256)\n",
    "        self.linear2 = torch.nn.Linear(256, input_channels * hidden_channels)\n",
    "\n",
    "    ######################\n",
    "    # For most purposes the t argument can probably be ignored; unless you want your CDE to behave differently at\n",
    "    # different times, which would be unusual. But it's there if you need it!\n",
    "    ######################\n",
    "    def forward(self, t, z):\n",
    "        # z has shape (batch, hidden_channels)\n",
    "#         print(z.min())\n",
    "#         pred_y = torch.nan_to_num(pred_y)\n",
    "#         pred_y = pred_y.clamp(min=0)\n",
    "#         print(pred_y.min())\n",
    "                \n",
    "        z = self.linear1(z)\n",
    "        if z.isnan().any():\n",
    "            print('l1')\n",
    "        z = z.relu()\n",
    "        z = self.linear2(z)\n",
    "        z = self.linear3(z)\n",
    "        if z.isnan().any():\n",
    "            print('l2')\n",
    "        ######################\n",
    "        # Easy-to-forget gotcha: Best results tend to be obtained by adding a final tanh nonlinearity.\n",
    "        ######################\n",
    "        z = z.tanh()\n",
    "        if z.isnan().any():\n",
    "            print('tanh')\n",
    "        ######################\n",
    "        # Ignoring the batch dimension, the shape of the output tensor must be a matrix,\n",
    "        # because we need it to represent a linear map from R^input_channels to R^hidden_channels.\n",
    "        ######################\n",
    "        z = z.view(z.size(0), self.hidden_channels, self.input_channels)\n",
    "        return z"
   ]
  },
  {
   "cell_type": "code",
   "execution_count": 46,
   "metadata": {},
   "outputs": [],
   "source": [
    "class NeuralCDE(torch.nn.Module):\n",
    "    def __init__(self, input_channels, hidden_channels, output_channels, interpolation=\"cubic\"):\n",
    "        super(NeuralCDE, self).__init__()\n",
    "\n",
    "        self.func = CDEFunc(input_channels, hidden_channels)\n",
    "        self.initial = torch.nn.Linear(input_channels, hidden_channels)\n",
    "        self.readout = torch.nn.Linear(hidden_channels, output_channels)\n",
    "        self.interpolation = interpolation\n",
    "\n",
    "    def forward(self, coeffs):\n",
    "        if self.interpolation == 'cubic':\n",
    "            X = torchcde.CubicSpline(coeffs)\n",
    "        elif self.interpolation == 'linear':\n",
    "            X = torchcde.LinearInterpolation(coeffs)\n",
    "        else:\n",
    "            raise ValueError(\"Only 'linear' and 'cubic' interpolation methods are implemented.\")\n",
    "\n",
    "        ######################\n",
    "        # Easy to forget gotcha: Initial hidden state should be a function of the first observation.\n",
    "        ######################\n",
    "        X0 = X.evaluate(X.interval[0])\n",
    "        print(X0.shape)\n",
    "        if X0.isnan().any():\n",
    "            print('X0')\n",
    "        \n",
    "        z0 = self.initial(X0)\n",
    "        if z0.isnan().any():\n",
    "            print('z0')\n",
    "            print(X0)\n",
    "\n",
    "        ######################\n",
    "        # Actually solve the CDE.\n",
    "        ######################\n",
    "        z_T = torchcde.cdeint(X=X,\n",
    "                              z0=z0,\n",
    "                              func=self.func,\n",
    "                              t=X.interval)\n",
    "        if z_T.isnan().any():\n",
    "            print('cdeint')\n",
    "            print(X.interval)\n",
    "\n",
    "        ######################\n",
    "        # Both the initial value and the terminal value are returned from cdeint; extract just the terminal value,\n",
    "        # and then apply a linear map.\n",
    "        ######################\n",
    "        z_T = z_T[:, 1]\n",
    "#         pred_y = torch.sigmoid(self.readout(z_T))\n",
    "        pred_y = self.readout(z_T)\n",
    "\n",
    "        return pred_y\n"
   ]
  },
  {
   "cell_type": "code",
   "execution_count": 47,
   "metadata": {},
   "outputs": [],
   "source": [
    "def test_batch(model, batch, device, threshold=0.5):\n",
    "      \n",
    "    coeffs, labels = batch[0].to(device), batch[1].to(device)\n",
    "    outputs = torch.sigmoid(model(coeffs)).squeeze(-1).to('cpu')\n",
    "    \n",
    "    #print(np.where(y == 1))\n",
    "#     correct, total = [], []\n",
    "    P, R = [], []\n",
    "    \n",
    "    for sample in range(len(outputs.cpu())):\n",
    "        pred_pos = set(np.where(outputs[sample].cpu()>=threshold)[0])\n",
    "        pred_neg = set(np.where(outputs[sample].cpu()<threshold)[0])\n",
    "        actual_pos = set(np.where(labels[sample].cpu()==1)[0])\n",
    "        actual_neg = set(np.where(labels[sample].cpu()==0)[0])\n",
    "        if len(actual_pos) < 1:\n",
    "            continue\n",
    "        TP = len(pred_pos & actual_pos)\n",
    "        FP = len(pred_pos & actual_neg)\n",
    "        TN = len(pred_neg & actual_neg)\n",
    "        FN = len(pred_neg & actual_pos)\n",
    "        precision = TP/(TP+FP) if TP+FP > 0 else 0\n",
    "        recall = TP/(TP+FN) if TP+FN > 0 else 0\n",
    "        P.append(precision)\n",
    "        R.append(recall)\n",
    "\n",
    "    P, R = np.array(P), np.array(R)\n",
    "    return [P.mean(), P.std(), R.mean(), R.std()]\n",
    "\n",
    "    \n",
    "    \n",
    "def test(model, testloader, threshold=0.5):\n",
    "    device = torch.device(\"cpu\")\n",
    "\n",
    "    for d in testloader:\n",
    "        test_x = d[0].float().to(device)\n",
    "        test_y = d[1].float().to(device)\n",
    "    \n",
    "    test_coeffs = torchcde.hermite_cubic_coefficients_with_backward_differences(test_x).to(device)\n",
    "    test_dataset = torch.utils.data.TensorDataset(test_coeffs, test_y)\n",
    "    test_dataloader = torch.utils.data.DataLoader(test_dataset, batch_size=128)\n",
    "    \n",
    "    with torch.no_grad():\n",
    "    \n",
    "        for batch in test_dataloader:\n",
    "            print(test_batch(model, batch, device))\n",
    "#             batch_coeffs, batch_y = batch[0].to(device), batch[1].to(device)\n",
    "            \n",
    "#             outputs = torch.sigmoid(model(batch_coeffs)).squeeze(-1).to('cpu')\n",
    "    \n",
    "#             print(outputs.shape)\n",
    "#             print(outputs[0])\n",
    "#             print(outputs[0][np.where(batch_y[0] == 1)] )\n",
    "            break\n",
    "#     correct = []\n",
    "#     total = []\n",
    "    \n",
    "#     with torch.no_grad():\n",
    "#         for idx, data in enumerate(testloader):\n",
    "#             inputs, labels = data[0].float().to(device), data[1].float().to(device)\n",
    "#             outputs = model(inputs)\n",
    "            \n",
    "#             for sample in range(len(outputs.cpu())):\n",
    "#                 preds = np.where(outputs[sample].cpu()>threshold)[0]\n",
    "#                 labels_ = np.where(labels[sample].cpu()==1)[0]\n",
    "#                 if len(labels_) < 1:\n",
    "#                     continue\n",
    "#                 intersection = set(preds) & set(labels_)\n",
    "#                 total.append(len(labels_))\n",
    "#                 correct.append(len(intersection))\n",
    "#         return np.array(correct), np.array(total)"
   ]
  },
  {
   "cell_type": "code",
   "execution_count": 48,
   "metadata": {},
   "outputs": [],
   "source": [
    "# Get whole processed dataset in order to compute interpolation coefficients\n",
    "trainloader = DataLoader(train_data, batch_size=len(train_data), shuffle=True)\n",
    "testloader = DataLoader(test_data, batch_size=len(test_data), shuffle=True)"
   ]
  },
  {
   "cell_type": "code",
   "execution_count": 49,
   "metadata": {},
   "outputs": [],
   "source": [
    "# from torch.utils.tensorboard import SummaryWriter\n",
    "# writer = SummaryWriter()"
   ]
  },
  {
   "cell_type": "code",
   "execution_count": 53,
   "metadata": {},
   "outputs": [
    {
     "name": "stdout",
     "output_type": "stream",
     "text": [
      "cuda:0\n"
     ]
    }
   ],
   "source": [
    "vocab_len = 126\n",
    "num_epochs = 1\n",
    "batch_size = 512\n",
    "log_every_n_batch=1\n",
    "device = torch.device(\"cuda:0\" if torch.cuda.is_available() else \"cpu\" )\n",
    "#     device = torch.device('cpu')\n",
    "print(device)\n",
    "for d in trainloader:\n",
    "    train_x = d[0].float().to(device)\n",
    "    train_y = d[1].float().to(device)\n",
    "\n",
    "######################\n",
    "# input_channels=3 because we have both the horizontal and vertical position of a point in the spiral, and time.\n",
    "# hidden_channels=8 is the number of hidden channels for the evolving z_t, which we get to choose.\n",
    "# output_channels=1 because we're doing binary classification.\n",
    "######################\n",
    "model_config = {\n",
    "    'input_channels': 3,\n",
    "    'hidden_channels': 230,\n",
    "    'output_channels': vocab_len,\n",
    "    'lr': 1e-4,\n",
    "    'save_dir': './model/eps/',\n",
    "    'step': 0,\n",
    "    'eps': 1e-8,\n",
    "}\n",
    "\n",
    "model = NeuralCDE(\n",
    "    input_channels=model_config['input_channels'], hidden_channels=model_config['hidden_channels'], \n",
    "    output_channels=model_config['output_channels']\n",
    "    )\n",
    "model.to(device)\n",
    "#print(model)\n",
    "optimizer = torch.optim.AdamW(model.parameters(), lr=model_config['lr'], eps=model_config['eps'])\n",
    "\n",
    "\n"
   ]
  },
  {
   "cell_type": "code",
   "execution_count": 28,
   "metadata": {},
   "outputs": [],
   "source": [
    "def save_model(model, step, config):\n",
    "    \"\"\"\n",
    "    Save the trained model\n",
    "    \"\"\"\n",
    "    save_dir = config['save_dir']\n",
    "    step = config['step'] + step\n",
    "    path = os.path.join(save_dir, '{}.ckpt'.format(step+1))\n",
    "\n",
    "    torch.save(model.state_dict(), path)\n",
    "    \n",
    "    print('Saved model checkpoint as {}...'.format(path))\n"
   ]
  },
  {
   "cell_type": "code",
   "execution_count": 29,
   "metadata": {},
   "outputs": [],
   "source": [
    "# save_model(model, 0, model_config)"
   ]
  },
  {
   "cell_type": "code",
   "execution_count": 30,
   "metadata": {},
   "outputs": [],
   "source": [
    "def restore_model(config, device=None):\n",
    "    \"\"\"\n",
    "    Restore the trained model.\n",
    "    \"\"\"\n",
    "    step = config['step']\n",
    "    print('Loading the trained models from step {}...'.format(step))\n",
    "    path = os.path.join(config['save_dir'], '{}.ckpt'.format(step))\n",
    "\n",
    "    model = NeuralCDE(input_channels=3, hidden_channels=model_config['hidden_channels'], output_channels=model_config['output_channels'])\n",
    "        \n",
    "    model.load_state_dict(torch.load(path))\n",
    "    \n",
    "    if device:\n",
    "        model = model.to(device)\n",
    "\n",
    "    return model"
   ]
  },
  {
   "cell_type": "code",
   "execution_count": 40,
   "metadata": {},
   "outputs": [],
   "source": [
    "# model = restore_model(model_config, device=device)"
   ]
  },
  {
   "cell_type": "code",
   "execution_count": 41,
   "metadata": {},
   "outputs": [],
   "source": [
    "np.random.seed(0)"
   ]
  },
  {
   "cell_type": "code",
   "execution_count": 52,
   "metadata": {},
   "outputs": [
    {
     "name": "stdout",
     "output_type": "stream",
     "text": [
      "Start training...\n",
      "torch.Size([512, 3])\n",
      "func.linear1.weight tensor(2.4759, device='cuda:0') tensor(6.5405, device='cuda:0')\n",
      "func.linear1.bias tensor(0.0095, device='cuda:0') tensor(0.4198, device='cuda:0')\n",
      "func.linear2.weight tensor(1.9305, device='cuda:0') tensor(15.1610, device='cuda:0')\n",
      "func.linear2.bias tensor(0.0215, device='cuda:0') tensor(1.3413, device='cuda:0')\n",
      "initial.weight tensor(0.2915, device='cuda:0') tensor(8.5805, device='cuda:0')\n",
      "initial.bias tensor(0.0240, device='cuda:0') tensor(5.0944, device='cuda:0')\n",
      "readout.weight tensor(2.3944, device='cuda:0') tensor(6.4638, device='cuda:0')\n",
      "readout.bias tensor(0.0399, device='cuda:0') tensor(0.3895, device='cuda:0')\n",
      "Batch: 0   Training loss: 1.173883318901062\n",
      "torch.Size([512, 3])\n",
      "Precision: 6.72 +/- 4.3 %\n",
      "Recall: 36.91 +/- 19.1 %\n",
      "Saved model checkpoint as ./model/eps/1.ckpt...\n",
      "torch.Size([512, 3])\n",
      "func.linear1.weight tensor(3.4732, device='cuda:0') tensor(6.5406, device='cuda:0')\n",
      "func.linear1.bias tensor(0.0101, device='cuda:0') tensor(0.4198, device='cuda:0')\n",
      "func.linear2.weight tensor(2.4388, device='cuda:0') tensor(15.1609, device='cuda:0')\n",
      "func.linear2.bias tensor(0.0231, device='cuda:0') tensor(1.3414, device='cuda:0')\n",
      "initial.weight tensor(0.2752, device='cuda:0') tensor(8.5803, device='cuda:0')\n",
      "initial.bias tensor(0.0233, device='cuda:0') tensor(5.0945, device='cuda:0')\n",
      "readout.weight tensor(2.3523, device='cuda:0') tensor(6.4631, device='cuda:0')\n",
      "readout.bias tensor(0.0389, device='cuda:0') tensor(0.3896, device='cuda:0')\n",
      "Batch: 1   Training loss: 1.2448089122772217\n",
      "torch.Size([512, 3])\n",
      "Precision: 6.91 +/- 4.5 %\n",
      "Recall: 35.52 +/- 18.4 %\n",
      "Saved model checkpoint as ./model/eps/2.ckpt...\n",
      "torch.Size([512, 3])\n",
      "func.linear1.weight tensor(1.7141, device='cuda:0') tensor(6.5406, device='cuda:0')\n",
      "func.linear1.bias tensor(0.0082, device='cuda:0') tensor(0.4198, device='cuda:0')\n",
      "func.linear2.weight tensor(1.4511, device='cuda:0') tensor(15.1609, device='cuda:0')\n",
      "func.linear2.bias tensor(0.0190, device='cuda:0') tensor(1.3414, device='cuda:0')\n",
      "initial.weight tensor(0.2824, device='cuda:0') tensor(8.5800, device='cuda:0')\n",
      "initial.bias tensor(0.0230, device='cuda:0') tensor(5.0945, device='cuda:0')\n",
      "readout.weight tensor(2.3279, device='cuda:0') tensor(6.4626, device='cuda:0')\n",
      "readout.bias tensor(0.0387, device='cuda:0') tensor(0.3896, device='cuda:0')\n",
      "Batch: 2   Training loss: 1.0503201484680176\n",
      "torch.Size([512, 3])\n",
      "Precision: 6.81 +/- 4.4 %\n",
      "Recall: 35.32 +/- 18.8 %\n",
      "Saved model checkpoint as ./model/eps/3.ckpt...\n",
      "torch.Size([512, 3])\n",
      "func.linear1.weight tensor(8.8112, device='cuda:0') tensor(6.5406, device='cuda:0')\n",
      "func.linear1.bias tensor(0.0088, device='cuda:0') tensor(0.4198, device='cuda:0')\n",
      "func.linear2.weight tensor(6.5128, device='cuda:0') tensor(15.1609, device='cuda:0')\n",
      "func.linear2.bias tensor(0.0204, device='cuda:0') tensor(1.3414, device='cuda:0')\n",
      "initial.weight tensor(0.2730, device='cuda:0') tensor(8.5798, device='cuda:0')\n",
      "initial.bias tensor(0.0224, device='cuda:0') tensor(5.0945, device='cuda:0')\n",
      "readout.weight tensor(2.3423, device='cuda:0') tensor(6.4620, device='cuda:0')\n",
      "readout.bias tensor(0.0379, device='cuda:0') tensor(0.3897, device='cuda:0')\n",
      "Batch: 3   Training loss: 1.148552417755127\n",
      "torch.Size([512, 3])\n",
      "Precision: 6.64 +/- 4.5 %\n",
      "Recall: 34.73 +/- 19.7 %\n",
      "Saved model checkpoint as ./model/eps/4.ckpt...\n",
      "torch.Size([512, 3])\n",
      "l1\n",
      "l2\n",
      "tanh\n",
      "cdeint\n",
      "tensor([  0., 199.], device='cuda:0')\n",
      "tensor(nan, device='cuda:0', grad_fn=<MinBackward1>)\n",
      "tensor(0., device='cuda:0', grad_fn=<MinBackward1>)\n"
     ]
    },
    {
     "name": "stderr",
     "output_type": "stream",
     "text": [
      "/share/pkg.7/pytorch/1.11.0/install/lib/SCC/../python3.8/site-packages/torch/autograd/__init__.py:173: UserWarning: Error detected in AddmmBackward0. Traceback of forward call that caused the error:\n",
      "  File \"/share/pkg.7/python3/3.8.10/install/lib/python3.8/runpy.py\", line 194, in _run_module_as_main\n",
      "    return _run_code(code, main_globals, None,\n",
      "  File \"/share/pkg.7/python3/3.8.10/install/lib/python3.8/runpy.py\", line 87, in _run_code\n",
      "    exec(code, run_globals)\n",
      "  File \"/share/pkg.7/python3/3.8.10/install/lib/python3.8/site-packages/ipykernel_launcher.py\", line 16, in <module>\n",
      "    app.launch_new_instance()\n",
      "  File \"/share/pkg.7/python3/3.8.10/install/lib/python3.8/site-packages/traitlets/config/application.py\", line 845, in launch_instance\n",
      "    app.start()\n",
      "  File \"/share/pkg.7/python3/3.8.10/install/lib/python3.8/site-packages/ipykernel/kernelapp.py\", line 612, in start\n",
      "    self.io_loop.start()\n",
      "  File \"/share/pkg.7/python3/3.8.10/install/lib/python3.8/site-packages/tornado/platform/asyncio.py\", line 199, in start\n",
      "    self.asyncio_loop.run_forever()\n",
      "  File \"/share/pkg.7/python3/3.8.10/install/lib/python3.8/asyncio/base_events.py\", line 570, in run_forever\n",
      "    self._run_once()\n",
      "  File \"/share/pkg.7/python3/3.8.10/install/lib/python3.8/asyncio/base_events.py\", line 1859, in _run_once\n",
      "    handle._run()\n",
      "  File \"/share/pkg.7/python3/3.8.10/install/lib/python3.8/asyncio/events.py\", line 81, in _run\n",
      "    self._context.run(self._callback, *self._args)\n",
      "  File \"/share/pkg.7/python3/3.8.10/install/lib/python3.8/site-packages/tornado/ioloop.py\", line 688, in <lambda>\n",
      "    lambda f: self._run_callback(functools.partial(callback, future))\n",
      "  File \"/share/pkg.7/python3/3.8.10/install/lib/python3.8/site-packages/tornado/ioloop.py\", line 741, in _run_callback\n",
      "    ret = callback()\n",
      "  File \"/share/pkg.7/python3/3.8.10/install/lib/python3.8/site-packages/tornado/gen.py\", line 814, in inner\n",
      "    self.ctx_run(self.run)\n",
      "  File \"/share/pkg.7/python3/3.8.10/install/lib/python3.8/site-packages/tornado/gen.py\", line 775, in run\n",
      "    yielded = self.gen.send(value)\n",
      "  File \"/share/pkg.7/python3/3.8.10/install/lib/python3.8/site-packages/ipykernel/kernelbase.py\", line 358, in process_one\n",
      "    yield gen.maybe_future(dispatch(*args))\n",
      "  File \"/share/pkg.7/python3/3.8.10/install/lib/python3.8/site-packages/tornado/gen.py\", line 234, in wrapper\n",
      "    yielded = ctx_run(next, result)\n",
      "  File \"/share/pkg.7/python3/3.8.10/install/lib/python3.8/site-packages/ipykernel/kernelbase.py\", line 261, in dispatch_shell\n",
      "    yield gen.maybe_future(handler(stream, idents, msg))\n",
      "  File \"/share/pkg.7/python3/3.8.10/install/lib/python3.8/site-packages/tornado/gen.py\", line 234, in wrapper\n",
      "    yielded = ctx_run(next, result)\n",
      "  File \"/share/pkg.7/python3/3.8.10/install/lib/python3.8/site-packages/ipykernel/kernelbase.py\", line 536, in execute_request\n",
      "    self.do_execute(\n",
      "  File \"/share/pkg.7/python3/3.8.10/install/lib/python3.8/site-packages/tornado/gen.py\", line 234, in wrapper\n",
      "    yielded = ctx_run(next, result)\n",
      "  File \"/share/pkg.7/python3/3.8.10/install/lib/python3.8/site-packages/ipykernel/ipkernel.py\", line 302, in do_execute\n",
      "    res = shell.run_cell(code, store_history=store_history, silent=silent)\n",
      "  File \"/share/pkg.7/python3/3.8.10/install/lib/python3.8/site-packages/ipykernel/zmqshell.py\", line 539, in run_cell\n",
      "    return super(ZMQInteractiveShell, self).run_cell(*args, **kwargs)\n",
      "  File \"/share/pkg.7/python3/3.8.10/install/lib/python3.8/site-packages/IPython/core/interactiveshell.py\", line 2898, in run_cell\n",
      "    result = self._run_cell(\n",
      "  File \"/share/pkg.7/python3/3.8.10/install/lib/python3.8/site-packages/IPython/core/interactiveshell.py\", line 2944, in _run_cell\n",
      "    return runner(coro)\n",
      "  File \"/share/pkg.7/python3/3.8.10/install/lib/python3.8/site-packages/IPython/core/async_helpers.py\", line 68, in _pseudo_sync_runner\n",
      "    coro.send(None)\n",
      "  File \"/share/pkg.7/python3/3.8.10/install/lib/python3.8/site-packages/IPython/core/interactiveshell.py\", line 3169, in run_cell_async\n",
      "    has_raised = await self.run_ast_nodes(code_ast.body, cell_name,\n",
      "  File \"/share/pkg.7/python3/3.8.10/install/lib/python3.8/site-packages/IPython/core/interactiveshell.py\", line 3361, in run_ast_nodes\n",
      "    if (await self.run_code(code, result,  async_=asy)):\n",
      "  File \"/share/pkg.7/python3/3.8.10/install/lib/python3.8/site-packages/IPython/core/interactiveshell.py\", line 3441, in run_code\n",
      "    exec(code_obj, self.user_global_ns, self.user_ns)\n",
      "  File \"<ipython-input-52-d171fa69dc1c>\", line 25, in <module>\n",
      "    pred_y = model(batch_coeffs).squeeze(-1)\n",
      "  File \"/share/pkg.7/pytorch/1.11.0/install/lib/SCC/../python3.8/site-packages/torch/nn/modules/module.py\", line 1110, in _call_impl\n",
      "    return forward_call(*input, **kwargs)\n",
      "  File \"<ipython-input-38-329f2fb6989f>\", line 48, in forward\n",
      "    pred_y = self.readout(z_T)\n",
      "  File \"/share/pkg.7/pytorch/1.11.0/install/lib/SCC/../python3.8/site-packages/torch/nn/modules/module.py\", line 1110, in _call_impl\n",
      "    return forward_call(*input, **kwargs)\n",
      "  File \"/share/pkg.7/pytorch/1.11.0/install/lib/SCC/../python3.8/site-packages/torch/nn/modules/linear.py\", line 103, in forward\n",
      "    return F.linear(input, self.weight, self.bias)\n",
      " (Triggered internally at  ../torch/csrc/autograd/python_anomaly_mode.cpp:104.)\n",
      "  Variable._execution_engine.run_backward(  # Calls into the C++ engine to run the backward pass\n"
     ]
    },
    {
     "ename": "RuntimeError",
     "evalue": "Function 'AddmmBackward0' returned nan values in its 2th output.",
     "output_type": "error",
     "traceback": [
      "\u001b[0;31m---------------------------------------------------------------------------\u001b[0m",
      "\u001b[0;31mRuntimeError\u001b[0m                              Traceback (most recent call last)",
      "\u001b[0;32m<ipython-input-52-d171fa69dc1c>\u001b[0m in \u001b[0;36m<module>\u001b[0;34m\u001b[0m\n\u001b[1;32m     32\u001b[0m             \u001b[0mloss\u001b[0m \u001b[0;34m=\u001b[0m \u001b[0mcriterion\u001b[0m\u001b[0;34m(\u001b[0m\u001b[0mpred_y\u001b[0m\u001b[0;34m,\u001b[0m \u001b[0mbatch_y\u001b[0m\u001b[0;34m)\u001b[0m\u001b[0;34m\u001b[0m\u001b[0;34m\u001b[0m\u001b[0m\n\u001b[1;32m     33\u001b[0m     \u001b[0;31m#         print('backprop')\u001b[0m\u001b[0;34m\u001b[0m\u001b[0;34m\u001b[0m\u001b[0;34m\u001b[0m\u001b[0m\n\u001b[0;32m---> 34\u001b[0;31m             \u001b[0mloss\u001b[0m\u001b[0;34m.\u001b[0m\u001b[0mbackward\u001b[0m\u001b[0;34m(\u001b[0m\u001b[0;34m)\u001b[0m\u001b[0;34m\u001b[0m\u001b[0;34m\u001b[0m\u001b[0m\n\u001b[0m\u001b[1;32m     35\u001b[0m     \u001b[0;31m#         print('finished backprop')\u001b[0m\u001b[0;34m\u001b[0m\u001b[0;34m\u001b[0m\u001b[0;34m\u001b[0m\u001b[0m\n\u001b[1;32m     36\u001b[0m             \u001b[0moptimizer\u001b[0m\u001b[0;34m.\u001b[0m\u001b[0mstep\u001b[0m\u001b[0;34m(\u001b[0m\u001b[0;34m)\u001b[0m\u001b[0;34m\u001b[0m\u001b[0;34m\u001b[0m\u001b[0m\n",
      "\u001b[0;32m/share/pkg.7/pytorch/1.11.0/install/lib/SCC/../python3.8/site-packages/torch/_tensor.py\u001b[0m in \u001b[0;36mbackward\u001b[0;34m(self, gradient, retain_graph, create_graph, inputs)\u001b[0m\n\u001b[1;32m    361\u001b[0m                 \u001b[0mcreate_graph\u001b[0m\u001b[0;34m=\u001b[0m\u001b[0mcreate_graph\u001b[0m\u001b[0;34m,\u001b[0m\u001b[0;34m\u001b[0m\u001b[0;34m\u001b[0m\u001b[0m\n\u001b[1;32m    362\u001b[0m                 inputs=inputs)\n\u001b[0;32m--> 363\u001b[0;31m         \u001b[0mtorch\u001b[0m\u001b[0;34m.\u001b[0m\u001b[0mautograd\u001b[0m\u001b[0;34m.\u001b[0m\u001b[0mbackward\u001b[0m\u001b[0;34m(\u001b[0m\u001b[0mself\u001b[0m\u001b[0;34m,\u001b[0m \u001b[0mgradient\u001b[0m\u001b[0;34m,\u001b[0m \u001b[0mretain_graph\u001b[0m\u001b[0;34m,\u001b[0m \u001b[0mcreate_graph\u001b[0m\u001b[0;34m,\u001b[0m \u001b[0minputs\u001b[0m\u001b[0;34m=\u001b[0m\u001b[0minputs\u001b[0m\u001b[0;34m)\u001b[0m\u001b[0;34m\u001b[0m\u001b[0;34m\u001b[0m\u001b[0m\n\u001b[0m\u001b[1;32m    364\u001b[0m \u001b[0;34m\u001b[0m\u001b[0m\n\u001b[1;32m    365\u001b[0m     \u001b[0;32mdef\u001b[0m \u001b[0mregister_hook\u001b[0m\u001b[0;34m(\u001b[0m\u001b[0mself\u001b[0m\u001b[0;34m,\u001b[0m \u001b[0mhook\u001b[0m\u001b[0;34m)\u001b[0m\u001b[0;34m:\u001b[0m\u001b[0;34m\u001b[0m\u001b[0;34m\u001b[0m\u001b[0m\n",
      "\u001b[0;32m/share/pkg.7/pytorch/1.11.0/install/lib/SCC/../python3.8/site-packages/torch/autograd/__init__.py\u001b[0m in \u001b[0;36mbackward\u001b[0;34m(tensors, grad_tensors, retain_graph, create_graph, grad_variables, inputs)\u001b[0m\n\u001b[1;32m    171\u001b[0m     \u001b[0;31m# some Python versions print out the first line of a multi-line function\u001b[0m\u001b[0;34m\u001b[0m\u001b[0;34m\u001b[0m\u001b[0;34m\u001b[0m\u001b[0m\n\u001b[1;32m    172\u001b[0m     \u001b[0;31m# calls in the traceback and some print out the last line\u001b[0m\u001b[0;34m\u001b[0m\u001b[0;34m\u001b[0m\u001b[0;34m\u001b[0m\u001b[0m\n\u001b[0;32m--> 173\u001b[0;31m     Variable._execution_engine.run_backward(  # Calls into the C++ engine to run the backward pass\n\u001b[0m\u001b[1;32m    174\u001b[0m         \u001b[0mtensors\u001b[0m\u001b[0;34m,\u001b[0m \u001b[0mgrad_tensors_\u001b[0m\u001b[0;34m,\u001b[0m \u001b[0mretain_graph\u001b[0m\u001b[0;34m,\u001b[0m \u001b[0mcreate_graph\u001b[0m\u001b[0;34m,\u001b[0m \u001b[0minputs\u001b[0m\u001b[0;34m,\u001b[0m\u001b[0;34m\u001b[0m\u001b[0;34m\u001b[0m\u001b[0m\n\u001b[1;32m    175\u001b[0m         allow_unreachable=True, accumulate_grad=True)  # Calls into the C++ engine to run the backward pass\n",
      "\u001b[0;31mRuntimeError\u001b[0m: Function 'AddmmBackward0' returned nan values in its 2th output."
     ]
    }
   ],
   "source": [
    "######################\n",
    "# Now we turn our dataset into a continuous path. We do this here via Hermite cubic spline interpolation.\n",
    "# The resulting `train_coeffs` is a tensor describing the path.\n",
    "# For most problems, it's probably easiest to save this tensor and treat it as the dataset.\n",
    "######################\n",
    "#     criterion = nn.BCELoss()\n",
    "criterion = torch.nn.functional.binary_cross_entropy_with_logits\n",
    "\n",
    "train_coeffs = torchcde.hermite_cubic_coefficients_with_backward_differences(train_x)\n",
    "train_dataset = torch.utils.data.TensorDataset(train_coeffs, train_y)\n",
    "train_dataloader = torch.utils.data.DataLoader(train_dataset, batch_size=batch_size)\n",
    "losses = []\n",
    "print('Start training...')\n",
    "\n",
    "optimizer.zero_grad()\n",
    "\n",
    "with torch.autograd.set_detect_anomaly(True):\n",
    "\n",
    "    for epoch in range(num_epochs):\n",
    "        for i, batch in enumerate(train_dataloader):\n",
    "            batch_coeffs, batch_y = batch\n",
    "            batch_coeffs = batch_coeffs.to(device)\n",
    "            batch_y = batch_y.to(device)\n",
    "    #         print('forward pass')\n",
    "            pred_y = model(batch_coeffs).squeeze(-1)\n",
    "            if pred_y.isnan().any():\n",
    "                print(pred_y.min())\n",
    "                pred_y = torch.nan_to_num(pred_y)\n",
    "                pred_y = pred_y.clamp(min=0)\n",
    "                print(pred_y.min())\n",
    "    #         print('finished forward pass')\n",
    "            loss = criterion(pred_y, batch_y)\n",
    "    #         print('backprop')\n",
    "            loss.backward()\n",
    "    #         print('finished backprop')\n",
    "            optimizer.step()\n",
    "    #         print('update')\n",
    "\n",
    "\n",
    "            #==================#\n",
    "            #    Tensorboard   #\n",
    "            #==================#\n",
    "\n",
    "    #         writer.add_scalar('train loss', loss)\n",
    "\n",
    "            for name, param in model.named_parameters():\n",
    "                print(name, param.grad.norm(), param.data.norm())\n",
    "    #             writer.add_histogram(f'gradient {name}', param.grad, i)\n",
    "    #             writer.add_histogram(f'weight   {name}', param.data, i)\n",
    "\n",
    "            optimizer.zero_grad()\n",
    "            losses.append(loss)\n",
    "\n",
    "            if i % log_every_n_batch == 0:\n",
    "                print('Batch: {}   Training loss: {}'.format(i, loss.item()))\n",
    "                p_m, p_s, r_m, r_s = test_batch(model, batch, device)\n",
    "                print(f'Precision: {100*p_m:.2f} +/- {100*p_s:.1f} %')\n",
    "                print(f'Recall: {100*r_m:.2f} +/- {100*r_s:.1f} %')\n",
    "                save_model(model, i, model_config)\n",
    "    #         writer.flush()\n",
    "        print('Epoch: {}   Training loss: {}'.format(epoch, loss.item()))\n",
    "    print('Finished Training')\n"
   ]
  },
  {
   "cell_type": "code",
   "execution_count": 71,
   "metadata": {},
   "outputs": [
    {
     "data": {
      "text/plain": [
       "torch.Size([8131, 199, 12])"
      ]
     },
     "execution_count": 71,
     "metadata": {},
     "output_type": "execute_result"
    }
   ],
   "source": [
    "train_coeffs.shape"
   ]
  },
  {
   "cell_type": "code",
   "execution_count": 72,
   "metadata": {},
   "outputs": [
    {
     "data": {
      "text/plain": [
       "tensor([[ 1.7825e-03,  5.7301e+00,  5.7961e+00,  ...,  0.0000e+00,\n",
       "          0.0000e+00,  0.0000e+00],\n",
       "        [ 5.3476e-03,  5.7398e+00,  5.7961e+00,  ...,  5.3476e-03,\n",
       "          2.7895e-04,  0.0000e+00],\n",
       "        [ 7.1301e-03,  5.7494e+00,  5.7961e+00,  ..., -3.2086e-02,\n",
       "         -1.4745e-01, -2.7231e-02],\n",
       "        ...,\n",
       "        [ 9.8396e-01,  6.3135e+00,  5.7137e+00,  ..., -5.3474e-03,\n",
       "          1.1235e-02,  0.0000e+00],\n",
       "        [ 9.9109e-01,  6.3226e+00,  5.7137e+00,  ...,  5.3474e-03,\n",
       "          1.0936e-02,  0.0000e+00],\n",
       "        [ 9.9643e-01,  6.3279e+00,  5.7137e+00,  ...,  5.3476e-03,\n",
       "          5.4188e-03,  0.0000e+00]], device='cuda:0')"
      ]
     },
     "execution_count": 72,
     "metadata": {},
     "output_type": "execute_result"
    }
   ],
   "source": [
    "c = train_coeffs[0]\n",
    "c"
   ]
  },
  {
   "cell_type": "code",
   "execution_count": 76,
   "metadata": {},
   "outputs": [
    {
     "data": {
      "text/plain": [
       "torch.Size([199, 12])"
      ]
     },
     "execution_count": 76,
     "metadata": {},
     "output_type": "execute_result"
    }
   ],
   "source": [
    "c.shape"
   ]
  },
  {
   "cell_type": "code",
   "execution_count": 84,
   "metadata": {},
   "outputs": [
    {
     "data": {
      "text/plain": [
       "(array([[0., 0., 1., ..., 0., 0., 0.],\n",
       "        [0., 0., 0., ..., 0., 0., 1.],\n",
       "        [0., 0., 0., ..., 0., 0., 1.],\n",
       "        ...,\n",
       "        [0., 0., 1., ..., 0., 0., 0.],\n",
       "        [0., 0., 1., ..., 0., 0., 0.],\n",
       "        [0., 0., 1., ..., 0., 0., 0.]]),\n",
       " array([-2.6829853 , -1.7712321 , -0.85947895,  0.05227423,  0.9640274 ,\n",
       "         1.8757806 ,  2.7875338 ,  3.699287  ,  4.61104   ,  5.5227933 ,\n",
       "         6.4345465 ], dtype=float32),\n",
       " <a list of 2388 BarContainer objects>)"
      ]
     },
     "execution_count": 84,
     "metadata": {},
     "output_type": "execute_result"
    },
    {
     "data": {
      "image/png": "[encoded data removed]",
      "text/plain": [
       "<Figure size 432x288 with 1 Axes>"
      ]
     },
     "metadata": {
      "needs_background": "light"
     },
     "output_type": "display_data"
    }
   ],
   "source": [
    "plt.hist(c.cpu().ravel(), bins=10)"
   ]
  },
  {
   "cell_type": "code",
   "execution_count": 78,
   "metadata": {},
   "outputs": [
    {
     "data": {
      "text/plain": [
       "tensor(-2.6830, device='cuda:0')"
      ]
     },
     "execution_count": 78,
     "metadata": {},
     "output_type": "execute_result"
    }
   ],
   "source": [
    "c.min()"
   ]
  },
  {
   "cell_type": "code",
   "execution_count": 79,
   "metadata": {},
   "outputs": [
    {
     "data": {
      "text/plain": [
       "tensor(6.4345, device='cuda:0')"
      ]
     },
     "execution_count": 79,
     "metadata": {},
     "output_type": "execute_result"
    }
   ],
   "source": [
    "c.max()"
   ]
  },
  {
   "cell_type": "code",
   "execution_count": 83,
   "metadata": {},
   "outputs": [
    {
     "data": {
      "text/plain": [
       "torch.Size([1488])"
      ]
     },
     "execution_count": 83,
     "metadata": {},
     "output_type": "execute_result"
    }
   ],
   "source": [
    "c.unique(return_counts=True)[1].shape"
   ]
  },
  {
   "cell_type": "code",
   "execution_count": 59,
   "metadata": {},
   "outputs": [
    {
     "name": "stdout",
     "output_type": "stream",
     "text": [
      "None\n"
     ]
    }
   ],
   "source": [
    "print(sample_coeffs)"
   ]
  },
  {
   "cell_type": "code",
   "execution_count": null,
   "metadata": {},
   "outputs": [],
   "source": []
  },
  {
   "cell_type": "code",
   "execution_count": 47,
   "metadata": {},
   "outputs": [
    {
     "data": {
      "text/plain": [
       "5.3e-06"
      ]
     },
     "execution_count": 47,
     "metadata": {},
     "output_type": "execute_result"
    }
   ],
   "source": [
    "0.0053 * model_config['lr']"
   ]
  },
  {
   "cell_type": "code",
   "execution_count": 49,
   "metadata": {},
   "outputs": [
    {
     "name": "stdout",
     "output_type": "stream",
     "text": [
      "Loading the trained models from step 7...\n"
     ]
    }
   ],
   "source": [
    "model_ = restore_model(7, model_config)"
   ]
  },
  {
   "cell_type": "code",
   "execution_count": 52,
   "metadata": {},
   "outputs": [
    {
     "data": {
      "text/plain": [
       "Adam (\n",
       "Parameter Group 0\n",
       "    amsgrad: False\n",
       "    betas: (0.9, 0.999)\n",
       "    eps: 1e-08\n",
       "    lr: 0.001\n",
       "    maximize: False\n",
       "    weight_decay: 0\n",
       ")"
      ]
     },
     "execution_count": 52,
     "metadata": {},
     "output_type": "execute_result"
    }
   ],
   "source": [
    "optimizer"
   ]
  },
  {
   "cell_type": "code",
   "execution_count": 48,
   "metadata": {},
   "outputs": [],
   "source": [
    "writer.close()\n"
   ]
  },
  {
   "cell_type": "code",
   "execution_count": 36,
   "metadata": {},
   "outputs": [
    {
     "name": "stdout",
     "output_type": "stream",
     "text": [
      "func.linear1.weight tensor(6.6265, device='cuda:0')\n",
      "func.linear1.bias tensor(0.3703, device='cuda:0')\n",
      "func.linear2.weight tensor(15.9913, device='cuda:0')\n",
      "func.linear2.bias tensor(1.4120, device='cuda:0')\n",
      "initial.weight tensor(9.3351, device='cuda:0')\n",
      "initial.bias tensor(5.6603, device='cuda:0')\n",
      "readout.weight tensor(6.5246, device='cuda:0')\n",
      "readout.bias tensor(0.4090, device='cuda:0')\n"
     ]
    }
   ],
   "source": [
    "for name, param in model.named_parameters():\n",
    "    print(name, param.data.norm())"
   ]
  },
  {
   "cell_type": "code",
   "execution_count": 37,
   "metadata": {},
   "outputs": [
    {
     "name": "stdout",
     "output_type": "stream",
     "text": [
      "linear1.weight tensor(6.6265, device='cuda:0')\n",
      "linear1.bias tensor(0.3703, device='cuda:0')\n",
      "linear2.weight tensor(15.9913, device='cuda:0')\n",
      "linear2.bias tensor(1.4120, device='cuda:0')\n"
     ]
    }
   ],
   "source": [
    "for name, param in model.func.named_parameters():\n",
    "    print(name, param.data.norm())"
   ]
  },
  {
   "cell_type": "code",
   "execution_count": 89,
   "metadata": {},
   "outputs": [
    {
     "name": "stdout",
     "output_type": "stream",
     "text": [
      "[0.07493699268884355, 0.042818498896016126, 0.5223782192743831, 0.211770656656533]\n"
     ]
    }
   ],
   "source": [
    "test(model.cpu(), testloader)"
   ]
  },
  {
   "cell_type": "code",
   "execution_count": 57,
   "metadata": {},
   "outputs": [],
   "source": [
    "X0, X1 = [], []\n",
    "Y0, Y1 = [], []\n",
    "\n",
    "\n",
    "for d in trainloader:\n",
    "    traces = d[0]\n",
    "    xmax = traces[:,:,1].max(1)[0]\n",
    "    xmin = traces[:,:,1].min(1)[0]\n",
    "    ymax = traces[:,:,2].max(1)[0]\n",
    "    ymin = traces[:,:,2].min(1)[0]\n"
   ]
  },
  {
   "cell_type": "code",
   "execution_count": 62,
   "metadata": {},
   "outputs": [
    {
     "data": {
      "image/png": "[encoded data removed]",
      "text/plain": [
       "<Figure size 432x288 with 1 Axes>"
      ]
     },
     "metadata": {
      "needs_background": "light"
     },
     "output_type": "display_data"
    }
   ],
   "source": [
    "plt.scatter(xmax, ymax, s=4, alpha=0.6, label='upper right')\n",
    "plt.scatter(xmin, ymin, s=4, alpha=0.6, label='lower left')\n",
    "\n",
    "plt.xscale('log')\n",
    "plt.yscale('log')\n",
    "plt.legend()\n",
    "plt.savefig('x_y_log_scale.jpg')"
   ]
  },
  {
   "cell_type": "code",
   "execution_count": 63,
   "metadata": {},
   "outputs": [
    {
     "data": {
      "image/png": "[encoded data removed]",
      "text/plain": [
       "<Figure size 432x288 with 1 Axes>"
      ]
     },
     "metadata": {
      "needs_background": "light"
     },
     "output_type": "display_data"
    }
   ],
   "source": [
    "plt.scatter(xmax-xmin, ymax-ymin, s=4)\n",
    "\n",
    "plt.xscale('log')\n",
    "plt.yscale('log')\n",
    "# plt.legend()"
   ]
  },
  {
   "cell_type": "code",
   "execution_count": 58,
   "metadata": {},
   "outputs": [
    {
     "data": {
      "text/plain": [
       "tensor(3698)"
      ]
     },
     "execution_count": 58,
     "metadata": {},
     "output_type": "execute_result"
    }
   ],
   "source": [
    "xmax.argmax()"
   ]
  },
  {
   "cell_type": "code",
   "execution_count": 59,
   "metadata": {},
   "outputs": [
    {
     "name": "stdout",
     "output_type": "stream",
     "text": [
      "tensor(14961021., dtype=torch.float64)\n"
     ]
    },
    {
     "data": {
      "text/plain": [
       "tensor(24., dtype=torch.float64)"
      ]
     },
     "execution_count": 59,
     "metadata": {},
     "output_type": "execute_result"
    }
   ],
   "source": [
    "print(xmax[3698])\n",
    "xmin[3698]"
   ]
  },
  {
   "cell_type": "code",
   "execution_count": 28,
   "metadata": {},
   "outputs": [
    {
     "data": {
      "text/plain": [
       "device(type='cuda', index=0)"
      ]
     },
     "execution_count": 28,
     "metadata": {},
     "output_type": "execute_result"
    }
   ],
   "source": [
    "torch.device('cuda:0')"
   ]
  },
  {
   "cell_type": "code",
   "execution_count": null,
   "metadata": {},
   "outputs": [],
   "source": []
  }
 ],
 "metadata": {
  "kernelspec": {
   "display_name": "Python 3",
   "language": "python",
   "name": "python3"
  },
  "language_info": {
   "codemirror_mode": {
    "name": "ipython",
    "version": 3
   },
   "file_extension": ".py",
   "mimetype": "text/x-python",
   "name": "python",
   "nbconvert_exporter": "python",
   "pygments_lexer": "ipython3",
   "version": "3.8.10"
  }
 },
 "nbformat": 4,
 "nbformat_minor": 4
}
