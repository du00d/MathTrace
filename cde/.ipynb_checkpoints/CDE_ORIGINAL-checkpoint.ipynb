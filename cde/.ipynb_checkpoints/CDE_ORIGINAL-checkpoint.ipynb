{
 "cells": [
  {
   "cell_type": "markdown",
   "metadata": {},
   "source": [
    "# Implementing TorchCDE - Neural Controlled Differential Equations"
   ]
  },
  {
   "cell_type": "code",
   "execution_count": 5,
   "metadata": {},
   "outputs": [
    {
     "name": "stdout",
     "output_type": "stream",
     "text": [
      "The autoreload extension is already loaded. To reload it, use:\n",
      "  %reload_ext autoreload\n"
     ]
    }
   ],
   "source": [
    "import numpy as np\n",
    "import sklearn\n",
    "import os\n",
    "import pickle\n",
    "import matplotlib.pyplot as plt\n",
    "\n",
    "import torch\n",
    "import torch.nn as nn\n",
    "import torch.nn.functional as F\n",
    "from torchvision import transforms\n",
    "\n",
    "import torchcde\n",
    "\n",
    "%load_ext autoreload\n",
    "%autoreload 2"
   ]
  },
  {
   "cell_type": "markdown",
   "metadata": {},
   "source": [
    "## Load dataset\n",
    "\n",
    "**Format**:\n",
    "\n"
   ]
  },
  {
   "cell_type": "code",
   "execution_count": 2,
   "metadata": {},
   "outputs": [
    {
     "name": "stdout",
     "output_type": "stream",
     "text": [
      "(4, 10939)\n"
     ]
    }
   ],
   "source": [
    "DATA_DIR = '/projectnb2/dl523/projects/trace_22/data/'\n",
    "# DATASET_PICKLE = [traces, images, tokens, expressions]\n",
    "path = os.path.join(DATA_DIR, 'cleaned/dataset_cleaned_125.pkl')\n",
    "\n",
    "with open(path, 'rb') as f:\n",
    "    dataset = pickle.load(f)\n",
    "          \n",
    "print((len(dataset), len(dataset[0])))"
   ]
  },
  {
   "cell_type": "code",
   "execution_count": 3,
   "metadata": {},
   "outputs": [],
   "source": [
    "traces, images, tokens = dataset[0], dataset[1], dataset[2]"
   ]
  },
  {
   "cell_type": "code",
   "execution_count": 4,
   "metadata": {},
   "outputs": [
    {
     "data": {
      "text/plain": [
       "10939"
      ]
     },
     "execution_count": 4,
     "metadata": {},
     "output_type": "execute_result"
    }
   ],
   "source": [
    "len(traces)"
   ]
  },
  {
   "cell_type": "code",
   "execution_count": 5,
   "metadata": {},
   "outputs": [],
   "source": [
    "trace_lengths = []\n",
    "\n",
    "for sample, trace in enumerate(traces):\n",
    "    x, y = [], []\n",
    "    for i in range(len(trace[0])):\n",
    "        x.extend(trace[0][i])\n",
    "        y.extend(trace[1][i])\n",
    "        \n",
    "    assert len(x)==len(y)\n",
    "    trace_lengths.append(len(x))"
   ]
  },
  {
   "cell_type": "code",
   "execution_count": 6,
   "metadata": {},
   "outputs": [
    {
     "name": "stdout",
     "output_type": "stream",
     "text": [
      "6581\n",
      "8030\n"
     ]
    },
    {
     "data": {
      "text/plain": [
       "Text(0.5, 0, 'trace length')"
      ]
     },
     "execution_count": 6,
     "metadata": {},
     "output_type": "execute_result"
    },
    {
     "data": {
      "image/png": "[encoded data removed]",
      "text/plain": [
       "<Figure size 720x432 with 1 Axes>"
      ]
     },
     "metadata": {
      "needs_background": "light"
     },
     "output_type": "display_data"
    }
   ],
   "source": [
    "print(np.max(trace_lengths))\n",
    "print(np.argmax(trace_lengths))\n",
    "plt.figure(figsize=(10,6))\n",
    "plt.hist(trace_lengths, bins=40)\n",
    "plt.ylabel('counts')\n",
    "plt.xlabel('trace length')\n",
    "#plt.savefig('./figures/trace_lengths.jpg')"
   ]
  },
  {
   "cell_type": "code",
   "execution_count": 7,
   "metadata": {},
   "outputs": [
    {
     "name": "stdout",
     "output_type": "stream",
     "text": [
      "83\n",
      "0.007587530852911601\n"
     ]
    }
   ],
   "source": [
    "trace_lengths = np.array(trace_lengths)\n",
    "\n",
    "n = (trace_lengths > 2000).sum()\n",
    "\n",
    "print(n)\n",
    "print(n/len(trace_lengths))"
   ]
  },
  {
   "cell_type": "code",
   "execution_count": 8,
   "metadata": {},
   "outputs": [
    {
     "data": {
      "text/plain": [
       "[10899,\n",
       " 10733,\n",
       " 10715,\n",
       " 10703,\n",
       " 10479,\n",
       " 10373,\n",
       " 10265,\n",
       " 10059,\n",
       " 9959,\n",
       " 9094,\n",
       " 9020,\n",
       " 9012,\n",
       " 8972,\n",
       " 8746,\n",
       " 8452,\n",
       " 8421,\n",
       " 8399,\n",
       " 8300,\n",
       " 8240,\n",
       " 8236,\n",
       " 8211,\n",
       " 8030,\n",
       " 8007,\n",
       " 7983,\n",
       " 7823,\n",
       " 7791,\n",
       " 7701,\n",
       " 7684,\n",
       " 7441,\n",
       " 7287,\n",
       " 7234,\n",
       " 7013,\n",
       " 6792,\n",
       " 6624,\n",
       " 6618,\n",
       " 6207,\n",
       " 6073,\n",
       " 6068,\n",
       " 5935,\n",
       " 5891,\n",
       " 5722,\n",
       " 5613,\n",
       " 5503,\n",
       " 5306,\n",
       " 5081,\n",
       " 4863,\n",
       " 4805,\n",
       " 4709,\n",
       " 4679,\n",
       " 4505,\n",
       " 4469,\n",
       " 4442,\n",
       " 4397,\n",
       " 4345,\n",
       " 4332,\n",
       " 4108,\n",
       " 3881,\n",
       " 3736,\n",
       " 3663,\n",
       " 3556,\n",
       " 2910,\n",
       " 2422,\n",
       " 2399,\n",
       " 2205,\n",
       " 2173,\n",
       " 2159,\n",
       " 2089,\n",
       " 1954,\n",
       " 1660,\n",
       " 1477,\n",
       " 1374,\n",
       " 1357,\n",
       " 1286,\n",
       " 1183,\n",
       " 1012,\n",
       " 990,\n",
       " 875,\n",
       " 815,\n",
       " 810,\n",
       " 782,\n",
       " 555,\n",
       " 434,\n",
       " 251]"
      ]
     },
     "execution_count": 8,
     "metadata": {},
     "output_type": "execute_result"
    }
   ],
   "source": [
    "to_keep = np.where(trace_lengths > 2000)[0]\n",
    "\n",
    "list(reversed(to_keep))"
   ]
  },
  {
   "cell_type": "code",
   "execution_count": 9,
   "metadata": {},
   "outputs": [
    {
     "name": "stdout",
     "output_type": "stream",
     "text": [
      "10899\n",
      "10733\n",
      "10715\n",
      "10703\n",
      "10479\n",
      "10373\n",
      "10265\n",
      "10059\n",
      "9959\n",
      "9094\n",
      "9020\n",
      "9012\n",
      "8972\n",
      "8746\n",
      "8452\n",
      "8421\n",
      "8399\n",
      "8300\n",
      "8240\n",
      "8236\n",
      "8211\n",
      "8030\n",
      "8007\n",
      "7983\n",
      "7823\n",
      "7791\n",
      "7701\n",
      "7684\n",
      "7441\n",
      "7287\n",
      "7234\n",
      "7013\n",
      "6792\n",
      "6624\n",
      "6618\n",
      "6207\n",
      "6073\n",
      "6068\n",
      "5935\n",
      "5891\n",
      "5722\n",
      "5613\n",
      "5503\n",
      "5306\n",
      "5081\n",
      "4863\n",
      "4805\n",
      "4709\n",
      "4679\n",
      "4505\n",
      "4469\n",
      "4442\n",
      "4397\n",
      "4345\n",
      "4332\n",
      "4108\n",
      "3881\n",
      "3736\n",
      "3663\n",
      "3556\n",
      "2910\n",
      "2422\n",
      "2399\n",
      "2205\n",
      "2173\n",
      "2159\n",
      "2089\n",
      "1954\n",
      "1660\n",
      "1477\n",
      "1374\n",
      "1357\n",
      "1286\n",
      "1183\n",
      "1012\n",
      "990\n",
      "875\n",
      "815\n",
      "810\n",
      "782\n",
      "555\n",
      "434\n",
      "251\n"
     ]
    }
   ],
   "source": [
    "def cutoff_traces(dataset, max_len):\n",
    "    '''Remove samples from X an y where y has a token length > 150.'''\n",
    "    traces, images, tokens = dataset[0], dataset[1], dataset[2]\n",
    "    \n",
    "    trace_lengths = []\n",
    "    for sample, trace in enumerate(traces):\n",
    "        x, y = [], []\n",
    "        for i in range(len(trace[0])):\n",
    "            x.extend(trace[0][i])\n",
    "            y.extend(trace[1][i])\n",
    "\n",
    "        assert len(x)==len(y)\n",
    "        trace_lengths.append(len(x))\n",
    "        \n",
    "    trace_lengths = np.array(trace_lengths)\n",
    "    to_keep = list(np.where(trace_lengths > max_len)[0])\n",
    "    removed = []\n",
    "    for idx in reversed(to_keep):\n",
    "        print(idx)\n",
    "        removed.append([dataset[i].pop(idx) for i in range(4)])\n",
    "    return removed\n",
    "                           \n",
    "rem = cutoff_traces(dataset, max_len=2000)"
   ]
  },
  {
   "cell_type": "code",
   "execution_count": 10,
   "metadata": {},
   "outputs": [
    {
     "data": {
      "text/plain": [
       "83"
      ]
     },
     "execution_count": 10,
     "metadata": {},
     "output_type": "execute_result"
    }
   ],
   "source": [
    "len(rem)"
   ]
  },
  {
   "cell_type": "code",
   "execution_count": 11,
   "metadata": {},
   "outputs": [],
   "source": [
    "traces, images, tokens = dataset[0], dataset[1], dataset[2]"
   ]
  },
  {
   "cell_type": "code",
   "execution_count": 12,
   "metadata": {},
   "outputs": [
    {
     "data": {
      "text/plain": [
       "10856"
      ]
     },
     "execution_count": 12,
     "metadata": {},
     "output_type": "execute_result"
    }
   ],
   "source": [
    "len(traces)"
   ]
  },
  {
   "cell_type": "markdown",
   "metadata": {},
   "source": [
    "### Cutoff tokens longer than length 150\n",
    "\n",
    "Like mentioned in the paper (A Visual Latex Decompiler), we remove training samples with tokens longer than 150. However, we leave them in for testing.\n",
    "\n",
    "We would thus remove 23 samples from the training set."
   ]
  },
  {
   "cell_type": "code",
   "execution_count": 13,
   "metadata": {},
   "outputs": [
    {
     "name": "stdout",
     "output_type": "stream",
     "text": [
      "482\n",
      "7218\n"
     ]
    },
    {
     "data": {
      "text/plain": [
       "Text(0.5, 0, 'token length')"
      ]
     },
     "execution_count": 13,
     "metadata": {},
     "output_type": "execute_result"
    },
    {
     "data": {
      "image/png": "[encoded data removed]",
      "text/plain": [
       "<Figure size 720x432 with 1 Axes>"
      ]
     },
     "metadata": {
      "needs_background": "light"
     },
     "output_type": "display_data"
    }
   ],
   "source": [
    "L = []\n",
    "\n",
    "for tok in tokens:\n",
    "    L.append(len(tok))\n",
    "    \n",
    "print(np.max(L))\n",
    "print(np.argmax(L))\n",
    "plt.figure(figsize=(10,6))\n",
    "plt.hist(L, bins=40)\n",
    "plt.ylabel('occurences')\n",
    "plt.xlabel('token length')\n",
    "#plt.savefig('./figures/token_lengths.jpg')"
   ]
  },
  {
   "cell_type": "code",
   "execution_count": 14,
   "metadata": {},
   "outputs": [
    {
     "name": "stdout",
     "output_type": "stream",
     "text": [
      "8142\n",
      "8142\n",
      "2714\n",
      "2714\n"
     ]
    }
   ],
   "source": [
    "from sklearn.model_selection import train_test_split\n",
    "\n",
    "X_train, X_test, y_train, y_test = train_test_split(traces, tokens, test_size=1/4)\n",
    "\n",
    "print(len(X_train))\n",
    "print(len(y_train))\n",
    "print(len(X_test))\n",
    "print(len(y_test))"
   ]
  },
  {
   "cell_type": "code",
   "execution_count": 15,
   "metadata": {},
   "outputs": [
    {
     "name": "stdout",
     "output_type": "stream",
     "text": [
      "6971\n",
      "6665\n",
      "6199\n",
      "4135\n",
      "3203\n",
      "3184\n",
      "2850\n",
      "2471\n",
      "1557\n",
      "1392\n",
      "1361\n",
      "1287\n",
      "1255\n",
      "839\n"
     ]
    }
   ],
   "source": [
    "def cutoff(X, y, token_length):\n",
    "    '''Remove samples from X an y where y has a token length > 150.'''\n",
    "    removed = []\n",
    "    for idx in reversed(range(len(y))):\n",
    "        if len(y[idx]) > token_length:\n",
    "            print(idx)\n",
    "            removed.append((X.pop(idx), y.pop(idx)))\n",
    "    return removed\n",
    "                           \n",
    "rem = cutoff(X_train, y_train, token_length=150)"
   ]
  },
  {
   "cell_type": "code",
   "execution_count": 16,
   "metadata": {},
   "outputs": [
    {
     "data": {
      "text/plain": [
       "8128"
      ]
     },
     "execution_count": 16,
     "metadata": {},
     "output_type": "execute_result"
    }
   ],
   "source": [
    "len(X_train)"
   ]
  },
  {
   "cell_type": "markdown",
   "metadata": {},
   "source": [
    "## Dataset object"
   ]
  },
  {
   "cell_type": "code",
   "execution_count": 17,
   "metadata": {},
   "outputs": [],
   "source": [
    "from tools.encode import train_label_encoding, OneHotEncoder\n",
    "\n",
    "# load vocabulary\n",
    "DATA = '/projectnb/dl523/projects/trace_22/data/'\n",
    "\n",
    "vocab = np.load(DATA + 'labelencoding.npy')\n",
    "label_enc = train_label_encoding(vocab)"
   ]
  },
  {
   "cell_type": "code",
   "execution_count": 18,
   "metadata": {},
   "outputs": [
    {
     "name": "stdout",
     "output_type": "stream",
     "text": [
      "tensor([[  0.0000,   9.3423,   9.1620],\n",
      "        [  1.0000,   9.3422,   9.1618],\n",
      "        [  2.0000,   9.3418,   9.1610],\n",
      "        ...,\n",
      "        [308.0000,   9.5420,   9.2569],\n",
      "        [308.0000,   9.5420,   9.2569],\n",
      "        [308.0000,   9.5420,   9.2569]], dtype=torch.float64)\n"
     ]
    }
   ],
   "source": [
    "def process_trace(trace: np.ndarray,  skip_t=10, pad_len=2000, fill='last', scale=True) -> np.ndarray:\n",
    "    x, y = [], []\n",
    "    timechannel = []\n",
    "    current_t = 0\n",
    "    for i in range(len(trace[0])):\n",
    "        x.extend(trace[0][i])\n",
    "        y.extend(trace[1][i])\n",
    "        current_segment_times = np.arange(len(trace[0][i])).astype(float)\n",
    "        timechannel.extend(current_t + current_segment_times)\n",
    "        current_t = current_t + skip_t + current_segment_times[-1]\n",
    "    \n",
    "    # Log Scale \n",
    "    if scale==True:\n",
    "        x = torch.tensor(x).log()\n",
    "        y = torch.tensor(y).log()\n",
    "        \n",
    "    # Padding    \n",
    "    unpadded = torch.tensor([timechannel, x, y])\n",
    "    if fill=='nan':\n",
    "        pad = torch.full((3, pad_len-unpadded.shape[1]), float('nan'))\n",
    "    elif fill=='last':\n",
    "        pad = unpadded[:,-1].unsqueeze(1).expand(-1, pad_len - unpadded.shape[1])\n",
    "    else: raise ValueError()\n",
    "\n",
    "    return torch.cat([unpadded,pad], dim=1).T\n",
    "    \n",
    "trace_tensor = process_trace(traces[2], skip_t=10, pad_len=2000, scale=True)\n",
    "print(trace_tensor)"
   ]
  },
  {
   "cell_type": "code",
   "execution_count": 19,
   "metadata": {},
   "outputs": [
    {
     "data": {
      "text/plain": [
       "torch.Size([2000, 3])"
      ]
     },
     "execution_count": 19,
     "metadata": {},
     "output_type": "execute_result"
    }
   ],
   "source": [
    "trace_tensor.shape"
   ]
  },
  {
   "cell_type": "code",
   "execution_count": 20,
   "metadata": {},
   "outputs": [
    {
     "data": {
      "image/png": "[encoded data removed]",
      "text/plain": [
       "<Figure size 864x432 with 1 Axes>"
      ]
     },
     "metadata": {
      "needs_background": "light"
     },
     "output_type": "display_data"
    }
   ],
   "source": [
    "plt.figure(figsize=(12,6))\n",
    "plt.scatter(trace_tensor.T[1], trace_tensor.T[2], s=3)\n",
    "\n",
    "for i in range(trace_tensor.T.shape[1]):\n",
    "    x, y = trace_tensor.T[1, i], trace_tensor.T[2, i]\n",
    "    plt.annotate(trace_tensor.T[0, i].item(), (x, y), fontsize=8)\n",
    "plt.gca().invert_yaxis()\n",
    "# plt.savefig('timechannel.jpg')"
   ]
  },
  {
   "cell_type": "code",
   "execution_count": 21,
   "metadata": {},
   "outputs": [],
   "source": [
    "from torch.utils.data import Dataset\n",
    "from torchvision import datasets\n",
    "from torch.utils.data import DataLoader\n",
    "\n",
    "# input_shape=(250, 490)\n",
    "\n",
    "transform = process_trace\n",
    "\n",
    "target_transform = OneHotEncoder(label_enc)\n",
    "\n",
    "class TraceTokenDataset(Dataset):\n",
    "    def __init__(self, traces, tokens, transform=transform, target_transform=target_transform, vocab=vocab):\n",
    "        self.traces = traces\n",
    "        self.tokens = tokens\n",
    "        self.transform = transform\n",
    "        self.target_transform = target_transform\n",
    "        self.vocab = vocab\n",
    "\n",
    "    def __len__(self):\n",
    "        return len(self.traces)\n",
    "\n",
    "    def __getitem__(self, idx):\n",
    "        trace = self.traces[idx]\n",
    "        target = self.tokens[idx]\n",
    "        if self.transform:\n",
    "            trace = self.transform(trace)\n",
    "        if self.target_transform:\n",
    "            target = self.target_transform(target)\n",
    "        return trace, target\n",
    "    \n",
    "    \n",
    "train_data = TraceTokenDataset(X_train, y_train, transform=transform, target_transform=target_transform, vocab=vocab)\n",
    "    \n",
    "test_data = TraceTokenDataset(X_test, y_test, transform=transform, target_transform=target_transform, vocab=vocab)"
   ]
  },
  {
   "cell_type": "code",
   "execution_count": 22,
   "metadata": {},
   "outputs": [],
   "source": [
    "class CDEFunc(torch.nn.Module):\n",
    "    def __init__(self, input_channels, hidden_channels):\n",
    "        ######################\n",
    "        # input_channels is the number of input channels in the data X. (Determined by the data.)\n",
    "        # hidden_channels is the number of channels for z_t. (Determined by you!)\n",
    "        ######################\n",
    "        super(CDEFunc, self).__init__()\n",
    "        self.input_channels = input_channels\n",
    "        self.hidden_channels = hidden_channels\n",
    "        self.linear1 = torch.nn.Linear(hidden_channels, 128)\n",
    "        self.linear2 = torch.nn.Linear(128, input_channels * hidden_channels)\n",
    "\n",
    "    ######################\n",
    "    # For most purposes the t argument can probably be ignored; unless you want your CDE to behave differently at\n",
    "    # different times, which would be unusual. But it's there if you need it!\n",
    "    ######################\n",
    "    def forward(self, t, z):\n",
    "        # z has shape (batch, hidden_channels)\n",
    "        z = self.linear1(z)\n",
    "        z = z.relu()\n",
    "        z = self.linear2(z)\n",
    "        ######################\n",
    "        # Easy-to-forget gotcha: Best results tend to be obtained by adding a final tanh nonlinearity.\n",
    "        ######################\n",
    "        z = z.tanh()\n",
    "        ######################\n",
    "        # Ignoring the batch dimension, the shape of the output tensor must be a matrix,\n",
    "        # because we need it to represent a linear map from R^input_channels to R^hidden_channels.\n",
    "        ######################\n",
    "        z = z.view(z.size(0), self.hidden_channels, self.input_channels)\n",
    "        return z"
   ]
  },
  {
   "cell_type": "code",
   "execution_count": 23,
   "metadata": {},
   "outputs": [],
   "source": [
    "class NeuralCDE(torch.nn.Module):\n",
    "    def __init__(self, input_channels, hidden_channels, output_channels, interpolation=\"cubic\"):\n",
    "        super(NeuralCDE, self).__init__()\n",
    "\n",
    "        self.func = CDEFunc(input_channels, hidden_channels)\n",
    "        self.initial = torch.nn.Linear(input_channels, hidden_channels)\n",
    "        self.readout = torch.nn.Linear(hidden_channels, output_channels)\n",
    "        self.interpolation = interpolation\n",
    "\n",
    "    def forward(self, coeffs):\n",
    "        if self.interpolation == 'cubic':\n",
    "            X = torchcde.CubicSpline(coeffs)\n",
    "        elif self.interpolation == 'linear':\n",
    "            X = torchcde.LinearInterpolation(coeffs)\n",
    "        else:\n",
    "            raise ValueError(\"Only 'linear' and 'cubic' interpolation methods are implemented.\")\n",
    "\n",
    "        ######################\n",
    "        # Easy to forget gotcha: Initial hidden state should be a function of the first observation.\n",
    "        ######################\n",
    "        X0 = X.evaluate(X.interval[0])\n",
    "        z0 = self.initial(X0)\n",
    "\n",
    "        ######################\n",
    "        # Actually solve the CDE.\n",
    "        ######################\n",
    "        z_T = torchcde.cdeint(X=X,\n",
    "                              z0=z0,\n",
    "                              func=self.func,\n",
    "                              t=X.interval)\n",
    "\n",
    "        ######################\n",
    "        # Both the initial value and the terminal value are returned from cdeint; extract just the terminal value,\n",
    "        # and then apply a linear map.\n",
    "        ######################\n",
    "        z_T = z_T[:, 1]\n",
    "#         pred_y = torch.sigmoid(self.readout(z_T))\n",
    "        pred_y = self.readout(z_T)\n",
    "\n",
    "        return pred_y\n"
   ]
  },
  {
   "cell_type": "code",
   "execution_count": 24,
   "metadata": {},
   "outputs": [],
   "source": [
    "def test_batch(model, batch, device, threshold=0.5):\n",
    "      \n",
    "    coeffs, labels = batch[0].to(device), batch[1].to(device)\n",
    "    outputs = torch.sigmoid(model(coeffs)).squeeze(-1).to('cpu')\n",
    "    \n",
    "    #print(np.where(y == 1))\n",
    "#     correct, total = [], []\n",
    "    P, R = [], []\n",
    "    \n",
    "    for sample in range(len(outputs.cpu())):\n",
    "        pred_pos = set(np.where(outputs[sample].cpu()>=threshold)[0])\n",
    "        pred_neg = set(np.where(outputs[sample].cpu()<threshold)[0])\n",
    "        actual_pos = set(np.where(labels[sample].cpu()==1)[0])\n",
    "        actual_neg = set(np.where(labels[sample].cpu()==0)[0])\n",
    "        if len(actual_pos) < 1:\n",
    "            continue\n",
    "        TP = len(pred_pos & actual_pos)\n",
    "        FP = len(pred_pos & actual_neg)\n",
    "        TN = len(pred_neg & actual_neg)\n",
    "        FN = len(pred_neg & actual_pos)\n",
    "        precision = TP/(TP+FP)\n",
    "        recall = TP/(TP+FN)\n",
    "        P.append(precision)\n",
    "        R.append(recall)\n",
    "\n",
    "    P, R = np.array(P), np.array(R)\n",
    "    return [P.mean(), P.std(), R.mean(), R.std()]\n",
    "\n",
    "    \n",
    "    \n",
    "def test(model, testloader, threshold=0.5):\n",
    "    device = torch.device(\"cpu\")\n",
    "\n",
    "    for d in testloader:\n",
    "        test_x = d[0].float().to(device)\n",
    "        test_y = d[1].float().to(device)\n",
    "    \n",
    "    test_coeffs = torchcde.hermite_cubic_coefficients_with_backward_differences(test_x).to(device)\n",
    "    test_dataset = torch.utils.data.TensorDataset(test_coeffs, test_y)\n",
    "    test_dataloader = torch.utils.data.DataLoader(test_dataset, batch_size=128)\n",
    "    \n",
    "    with torch.no_grad():\n",
    "    \n",
    "        for batch in test_dataloader:\n",
    "            print(test_batch(model, batch, device))\n",
    "#             batch_coeffs, batch_y = batch[0].to(device), batch[1].to(device)\n",
    "            \n",
    "#             outputs = torch.sigmoid(model(batch_coeffs)).squeeze(-1).to('cpu')\n",
    "    \n",
    "#             print(outputs.shape)\n",
    "#             print(outputs[0])\n",
    "#             print(outputs[0][np.where(batch_y[0] == 1)] )\n",
    "            break\n",
    "#     correct = []\n",
    "#     total = []\n",
    "    \n",
    "#     with torch.no_grad():\n",
    "#         for idx, data in enumerate(testloader):\n",
    "#             inputs, labels = data[0].float().to(device), data[1].float().to(device)\n",
    "#             outputs = model(inputs)\n",
    "            \n",
    "#             for sample in range(len(outputs.cpu())):\n",
    "#                 preds = np.where(outputs[sample].cpu()>threshold)[0]\n",
    "#                 labels_ = np.where(labels[sample].cpu()==1)[0]\n",
    "#                 if len(labels_) < 1:\n",
    "#                     continue\n",
    "#                 intersection = set(preds) & set(labels_)\n",
    "#                 total.append(len(labels_))\n",
    "#                 correct.append(len(intersection))\n",
    "#         return np.array(correct), np.array(total)"
   ]
  },
  {
   "cell_type": "code",
   "execution_count": 25,
   "metadata": {},
   "outputs": [],
   "source": [
    "# Get whole processed dataset in order to compute interpolation coefficients\n",
    "trainloader = DataLoader(train_data, batch_size=len(train_data), shuffle=True)\n",
    "testloader = DataLoader(test_data, batch_size=len(test_data), shuffle=True)"
   ]
  },
  {
   "cell_type": "code",
   "execution_count": 26,
   "metadata": {},
   "outputs": [],
   "source": [
    "from torch.utils.tensorboard import SummaryWriter\n",
    "writer = SummaryWriter()"
   ]
  },
  {
   "cell_type": "code",
   "execution_count": 27,
   "metadata": {},
   "outputs": [
    {
     "name": "stdout",
     "output_type": "stream",
     "text": [
      "cuda:0\n"
     ]
    },
    {
     "name": "stderr",
     "output_type": "stream",
     "text": [
      "/share/pkg.7/pytorch/1.11.0/install/lib/SCC/../python3.8/site-packages/torch/cuda/__init__.py:122: UserWarning: \n",
      "    Found GPU0 Tesla K40m which is of cuda capability 3.5.\n",
      "    PyTorch no longer supports this GPU because it is too old.\n",
      "    The minimum cuda capability supported by this library is 3.7.\n",
      "    \n",
      "  warnings.warn(old_gpu_warn % (d, name, major, minor, min_arch // 10, min_arch % 10))\n"
     ]
    }
   ],
   "source": [
    "\n",
    "vocab_len = 126\n",
    "num_epochs =1\n",
    "batch_size = 512\n",
    "log_every_n_batch=1\n",
    "device = torch.device(\"cuda:0\" if torch.cuda.is_available() else \"cpu\" )\n",
    "#     device = torch.device('cpu')\n",
    "print(device)\n",
    "for d in trainloader:\n",
    "    train_x = d[0].float().to(device)\n",
    "    train_y = d[1].float().to(device)\n",
    "\n",
    "######################\n",
    "# input_channels=3 because we have both the horizontal and vertical position of a point in the spiral, and time.\n",
    "# hidden_channels=8 is the number of hidden channels for the evolving z_t, which we get to choose.\n",
    "# output_channels=1 because we're doing binary classification.\n",
    "######################\n",
    "model = NeuralCDE(input_channels=3, hidden_channels=vocab_len, output_channels=vocab_len)\n",
    "model.to(device)\n",
    "#print(model)\n",
    "optimizer = torch.optim.Adam(model.parameters())\n",
    "\n",
    "\n"
   ]
  },
  {
   "cell_type": "code",
   "execution_count": 28,
   "metadata": {},
   "outputs": [
    {
     "ename": "RuntimeError",
     "evalue": "CUDA error: no kernel image is available for execution on the device\nCUDA kernel errors might be asynchronously reported at some other API call,so the stacktrace below might be incorrect.\nFor debugging consider passing CUDA_LAUNCH_BLOCKING=1.",
     "output_type": "error",
     "traceback": [
      "\u001b[0;31m---------------------------------------------------------------------------\u001b[0m",
      "\u001b[0;31mRuntimeError\u001b[0m                              Traceback (most recent call last)",
      "\u001b[0;32m<ipython-input-28-f322e0d7551b>\u001b[0m in \u001b[0;36m<module>\u001b[0;34m\u001b[0m\n\u001b[1;32m      7\u001b[0m \u001b[0mcriterion\u001b[0m \u001b[0;34m=\u001b[0m \u001b[0mtorch\u001b[0m\u001b[0;34m.\u001b[0m\u001b[0mnn\u001b[0m\u001b[0;34m.\u001b[0m\u001b[0mfunctional\u001b[0m\u001b[0;34m.\u001b[0m\u001b[0mbinary_cross_entropy_with_logits\u001b[0m\u001b[0;34m\u001b[0m\u001b[0;34m\u001b[0m\u001b[0m\n\u001b[1;32m      8\u001b[0m \u001b[0;34m\u001b[0m\u001b[0m\n\u001b[0;32m----> 9\u001b[0;31m \u001b[0mtrain_coeffs\u001b[0m \u001b[0;34m=\u001b[0m \u001b[0mtorchcde\u001b[0m\u001b[0;34m.\u001b[0m\u001b[0mhermite_cubic_coefficients_with_backward_differences\u001b[0m\u001b[0;34m(\u001b[0m\u001b[0mtrain_x\u001b[0m\u001b[0;34m)\u001b[0m\u001b[0;34m\u001b[0m\u001b[0;34m\u001b[0m\u001b[0m\n\u001b[0m\u001b[1;32m     10\u001b[0m \u001b[0mtrain_dataset\u001b[0m \u001b[0;34m=\u001b[0m \u001b[0mtorch\u001b[0m\u001b[0;34m.\u001b[0m\u001b[0mutils\u001b[0m\u001b[0;34m.\u001b[0m\u001b[0mdata\u001b[0m\u001b[0;34m.\u001b[0m\u001b[0mTensorDataset\u001b[0m\u001b[0;34m(\u001b[0m\u001b[0mtrain_coeffs\u001b[0m\u001b[0;34m,\u001b[0m \u001b[0mtrain_y\u001b[0m\u001b[0;34m)\u001b[0m\u001b[0;34m\u001b[0m\u001b[0;34m\u001b[0m\u001b[0m\n\u001b[1;32m     11\u001b[0m \u001b[0mtrain_dataloader\u001b[0m \u001b[0;34m=\u001b[0m \u001b[0mtorch\u001b[0m\u001b[0;34m.\u001b[0m\u001b[0mutils\u001b[0m\u001b[0;34m.\u001b[0m\u001b[0mdata\u001b[0m\u001b[0;34m.\u001b[0m\u001b[0mDataLoader\u001b[0m\u001b[0;34m(\u001b[0m\u001b[0mtrain_dataset\u001b[0m\u001b[0;34m,\u001b[0m \u001b[0mbatch_size\u001b[0m\u001b[0;34m=\u001b[0m\u001b[0mbatch_size\u001b[0m\u001b[0;34m)\u001b[0m\u001b[0;34m\u001b[0m\u001b[0;34m\u001b[0m\u001b[0m\n",
      "\u001b[0;32m~/.local/lib/python3.8/site-packages/torchcde/interpolation_hermite_cubic_bdiff.py\u001b[0m in \u001b[0;36mhermite_cubic_coefficients_with_backward_differences\u001b[0;34m(x, t)\u001b[0m\n\u001b[1;32m     31\u001b[0m     \"\"\"\n\u001b[1;32m     32\u001b[0m     \u001b[0;31m# Linear coeffs\u001b[0m\u001b[0;34m\u001b[0m\u001b[0;34m\u001b[0m\u001b[0;34m\u001b[0m\u001b[0m\n\u001b[0;32m---> 33\u001b[0;31m     \u001b[0mcoeffs\u001b[0m \u001b[0;34m=\u001b[0m \u001b[0mlinear_interpolation_coeffs\u001b[0m\u001b[0;34m(\u001b[0m\u001b[0mx\u001b[0m\u001b[0;34m,\u001b[0m \u001b[0mt\u001b[0m\u001b[0;34m=\u001b[0m\u001b[0mt\u001b[0m\u001b[0;34m,\u001b[0m \u001b[0mrectilinear\u001b[0m\u001b[0;34m=\u001b[0m\u001b[0;32mNone\u001b[0m\u001b[0;34m)\u001b[0m\u001b[0;34m\u001b[0m\u001b[0;34m\u001b[0m\u001b[0m\n\u001b[0m\u001b[1;32m     34\u001b[0m \u001b[0;34m\u001b[0m\u001b[0m\n\u001b[1;32m     35\u001b[0m     \u001b[0;32mif\u001b[0m \u001b[0mt\u001b[0m \u001b[0;32mis\u001b[0m \u001b[0;32mNone\u001b[0m\u001b[0;34m:\u001b[0m\u001b[0;34m\u001b[0m\u001b[0;34m\u001b[0m\u001b[0m\n",
      "\u001b[0;32m~/.local/lib/python3.8/site-packages/torchcde/interpolation_linear.py\u001b[0m in \u001b[0;36mlinear_interpolation_coeffs\u001b[0;34m(x, t, rectilinear)\u001b[0m\n\u001b[1;32m    165\u001b[0m         \u001b[0mx\u001b[0m \u001b[0;34m=\u001b[0m \u001b[0m_prepare_rectilinear_interpolation\u001b[0m\u001b[0;34m(\u001b[0m\u001b[0mx\u001b[0m\u001b[0;34m,\u001b[0m \u001b[0mrectilinear\u001b[0m\u001b[0;34m)\u001b[0m\u001b[0;34m\u001b[0m\u001b[0;34m\u001b[0m\u001b[0m\n\u001b[1;32m    166\u001b[0m \u001b[0;34m\u001b[0m\u001b[0m\n\u001b[0;32m--> 167\u001b[0;31m     \u001b[0mt\u001b[0m \u001b[0;34m=\u001b[0m \u001b[0mmisc\u001b[0m\u001b[0;34m.\u001b[0m\u001b[0mvalidate_input_path\u001b[0m\u001b[0;34m(\u001b[0m\u001b[0mx\u001b[0m\u001b[0;34m,\u001b[0m \u001b[0mt\u001b[0m\u001b[0;34m)\u001b[0m\u001b[0;34m\u001b[0m\u001b[0;34m\u001b[0m\u001b[0m\n\u001b[0m\u001b[1;32m    168\u001b[0m \u001b[0;34m\u001b[0m\u001b[0m\n\u001b[1;32m    169\u001b[0m     \u001b[0;32mif\u001b[0m \u001b[0mtorch\u001b[0m\u001b[0;34m.\u001b[0m\u001b[0misnan\u001b[0m\u001b[0;34m(\u001b[0m\u001b[0mx\u001b[0m\u001b[0;34m)\u001b[0m\u001b[0;34m.\u001b[0m\u001b[0many\u001b[0m\u001b[0;34m(\u001b[0m\u001b[0;34m)\u001b[0m\u001b[0;34m:\u001b[0m\u001b[0;34m\u001b[0m\u001b[0;34m\u001b[0m\u001b[0m\n",
      "\u001b[0;32m~/.local/lib/python3.8/site-packages/torchcde/misc.py\u001b[0m in \u001b[0;36mvalidate_input_path\u001b[0;34m(x, t)\u001b[0m\n\u001b[1;32m     77\u001b[0m \u001b[0;34m\u001b[0m\u001b[0m\n\u001b[1;32m     78\u001b[0m     \u001b[0;32mif\u001b[0m \u001b[0mt\u001b[0m \u001b[0;32mis\u001b[0m \u001b[0;32mNone\u001b[0m\u001b[0;34m:\u001b[0m\u001b[0;34m\u001b[0m\u001b[0;34m\u001b[0m\u001b[0m\n\u001b[0;32m---> 79\u001b[0;31m         \u001b[0mt\u001b[0m \u001b[0;34m=\u001b[0m \u001b[0mtorch\u001b[0m\u001b[0;34m.\u001b[0m\u001b[0mlinspace\u001b[0m\u001b[0;34m(\u001b[0m\u001b[0;36m0\u001b[0m\u001b[0;34m,\u001b[0m \u001b[0mx\u001b[0m\u001b[0;34m.\u001b[0m\u001b[0msize\u001b[0m\u001b[0;34m(\u001b[0m\u001b[0;34m-\u001b[0m\u001b[0;36m2\u001b[0m\u001b[0;34m)\u001b[0m \u001b[0;34m-\u001b[0m \u001b[0;36m1\u001b[0m\u001b[0;34m,\u001b[0m \u001b[0mx\u001b[0m\u001b[0;34m.\u001b[0m\u001b[0msize\u001b[0m\u001b[0;34m(\u001b[0m\u001b[0;34m-\u001b[0m\u001b[0;36m2\u001b[0m\u001b[0;34m)\u001b[0m\u001b[0;34m,\u001b[0m \u001b[0mdtype\u001b[0m\u001b[0;34m=\u001b[0m\u001b[0mx\u001b[0m\u001b[0;34m.\u001b[0m\u001b[0mdtype\u001b[0m\u001b[0;34m,\u001b[0m \u001b[0mdevice\u001b[0m\u001b[0;34m=\u001b[0m\u001b[0mx\u001b[0m\u001b[0;34m.\u001b[0m\u001b[0mdevice\u001b[0m\u001b[0;34m)\u001b[0m\u001b[0;34m\u001b[0m\u001b[0;34m\u001b[0m\u001b[0m\n\u001b[0m\u001b[1;32m     80\u001b[0m \u001b[0;34m\u001b[0m\u001b[0m\n\u001b[1;32m     81\u001b[0m     \u001b[0;32mif\u001b[0m \u001b[0;32mnot\u001b[0m \u001b[0mt\u001b[0m\u001b[0;34m.\u001b[0m\u001b[0mis_floating_point\u001b[0m\u001b[0;34m(\u001b[0m\u001b[0;34m)\u001b[0m\u001b[0;34m:\u001b[0m\u001b[0;34m\u001b[0m\u001b[0;34m\u001b[0m\u001b[0m\n",
      "\u001b[0;31mRuntimeError\u001b[0m: CUDA error: no kernel image is available for execution on the device\nCUDA kernel errors might be asynchronously reported at some other API call,so the stacktrace below might be incorrect.\nFor debugging consider passing CUDA_LAUNCH_BLOCKING=1."
     ]
    }
   ],
   "source": [
    "\n",
    "######################\n",
    "# Now we turn our dataset into a continuous path. We do this here via Hermite cubic spline interpolation.\n",
    "# The resulting `train_coeffs` is a tensor describing the path.\n",
    "# For most problems, it's probably easiest to save this tensor and treat it as the dataset.\n",
    "######################\n",
    "#     criterion = nn.BCELoss()\n",
    "criterion = torch.nn.functional.binary_cross_entropy_with_logits\n",
    "\n",
    "train_coeffs = torchcde.hermite_cubic_coefficients_with_backward_differences(train_x)\n",
    "train_dataset = torch.utils.data.TensorDataset(train_coeffs, train_y)\n",
    "train_dataloader = torch.utils.data.DataLoader(train_dataset, batch_size=batch_size)\n",
    "losses = []\n",
    "print('Start training...')\n",
    "for epoch in range(num_epochs):\n",
    "    for i, batch in enumerate(train_dataloader):\n",
    "        batch_coeffs, batch_y = batch\n",
    "        batch_coeffs = batch_coeffs.to(device)\n",
    "        batch_y = batch_y.to(device)\n",
    "        print('forward pass')\n",
    "        pred_y = model(batch_coeffs).squeeze(-1)\n",
    "        print('finished forward pass')\n",
    "        loss = criterion(pred_y, batch_y)\n",
    "        print('backprop')\n",
    "        loss.backward()\n",
    "        print('finished backprop')\n",
    "        optimizer.step()\n",
    "        print('update')\n",
    "        \n",
    "            \n",
    "        #==================#\n",
    "        #    Tensorboard   #\n",
    "        #==================#\n",
    "        \n",
    "        writer.add_scalar('train loss', loss)\n",
    "        \n",
    "        for name, param in model.named_parameters():\n",
    "            print(name, param.grad.norm(), param.data.norm())\n",
    "            writer.add_histogram(f'gradient {name}', param.grad, i)\n",
    "            writer.add_histogram(f'weight   {name}', param.data, i)\n",
    "\n",
    "        optimizer.zero_grad()\n",
    "        losses.append(loss)\n",
    "\n",
    "        if i % log_every_n_batch == 0:\n",
    "            print('Batch: {}   Training loss: {}'.format(i, loss.item()))\n",
    "            p_m, p_s, r_m, r_s = test_batch(model, batch, device)\n",
    "            print(f'Precision: {100*p_m:.2f} +/- {100*p_s:.1f} %')\n",
    "            print(f'Recall: {100*r_m:.2f} +/- {100*r_s:.1f} %')\n",
    "        writer.flush()\n",
    "    print('Epoch: {}   Training loss: {}'.format(epoch, loss.item()))\n",
    "print('Finished Training')\n"
   ]
  },
  {
   "cell_type": "code",
   "execution_count": null,
   "metadata": {},
   "outputs": [],
   "source": [
    "writer.close()\n"
   ]
  },
  {
   "cell_type": "code",
   "execution_count": 36,
   "metadata": {},
   "outputs": [
    {
     "name": "stdout",
     "output_type": "stream",
     "text": [
      "func.linear1.weight tensor(6.6265, device='cuda:0')\n",
      "func.linear1.bias tensor(0.3703, device='cuda:0')\n",
      "func.linear2.weight tensor(15.9913, device='cuda:0')\n",
      "func.linear2.bias tensor(1.4120, device='cuda:0')\n",
      "initial.weight tensor(9.3351, device='cuda:0')\n",
      "initial.bias tensor(5.6603, device='cuda:0')\n",
      "readout.weight tensor(6.5246, device='cuda:0')\n",
      "readout.bias tensor(0.4090, device='cuda:0')\n"
     ]
    }
   ],
   "source": [
    "for name, param in model.named_parameters():\n",
    "    print(name, param.data.norm())"
   ]
  },
  {
   "cell_type": "code",
   "execution_count": 37,
   "metadata": {},
   "outputs": [
    {
     "name": "stdout",
     "output_type": "stream",
     "text": [
      "linear1.weight tensor(6.6265, device='cuda:0')\n",
      "linear1.bias tensor(0.3703, device='cuda:0')\n",
      "linear2.weight tensor(15.9913, device='cuda:0')\n",
      "linear2.bias tensor(1.4120, device='cuda:0')\n"
     ]
    }
   ],
   "source": [
    "for name, param in model.func.named_parameters():\n",
    "    print(name, param.data.norm())"
   ]
  },
  {
   "cell_type": "code",
   "execution_count": 89,
   "metadata": {},
   "outputs": [
    {
     "name": "stdout",
     "output_type": "stream",
     "text": [
      "[0.07493699268884355, 0.042818498896016126, 0.5223782192743831, 0.211770656656533]\n"
     ]
    }
   ],
   "source": [
    "test(model.cpu(), testloader)"
   ]
  },
  {
   "cell_type": "code",
   "execution_count": 57,
   "metadata": {},
   "outputs": [],
   "source": [
    "X0, X1 = [], []\n",
    "Y0, Y1 = [], []\n",
    "\n",
    "\n",
    "for d in trainloader:\n",
    "    traces = d[0]\n",
    "    xmax = traces[:,:,1].max(1)[0]\n",
    "    xmin = traces[:,:,1].min(1)[0]\n",
    "    ymax = traces[:,:,2].max(1)[0]\n",
    "    ymin = traces[:,:,2].min(1)[0]\n"
   ]
  },
  {
   "cell_type": "code",
   "execution_count": 62,
   "metadata": {},
   "outputs": [
    {
     "data": {
      "image/png": "[encoded data removed]",
      "text/plain": [
       "<Figure size 432x288 with 1 Axes>"
      ]
     },
     "metadata": {
      "needs_background": "light"
     },
     "output_type": "display_data"
    }
   ],
   "source": [
    "plt.scatter(xmax, ymax, s=4, alpha=0.6, label='upper right')\n",
    "plt.scatter(xmin, ymin, s=4, alpha=0.6, label='lower left')\n",
    "\n",
    "plt.xscale('log')\n",
    "plt.yscale('log')\n",
    "plt.legend()\n",
    "plt.savefig('x_y_log_scale.jpg')"
   ]
  },
  {
   "cell_type": "code",
   "execution_count": 63,
   "metadata": {},
   "outputs": [
    {
     "data": {
      "image/png": "[encoded data removed]",
      "text/plain": [
       "<Figure size 432x288 with 1 Axes>"
      ]
     },
     "metadata": {
      "needs_background": "light"
     },
     "output_type": "display_data"
    }
   ],
   "source": [
    "plt.scatter(xmax-xmin, ymax-ymin, s=4)\n",
    "\n",
    "plt.xscale('log')\n",
    "plt.yscale('log')\n",
    "# plt.legend()"
   ]
  },
  {
   "cell_type": "code",
   "execution_count": 58,
   "metadata": {},
   "outputs": [
    {
     "data": {
      "text/plain": [
       "tensor(3698)"
      ]
     },
     "execution_count": 58,
     "metadata": {},
     "output_type": "execute_result"
    }
   ],
   "source": [
    "xmax.argmax()"
   ]
  },
  {
   "cell_type": "code",
   "execution_count": 59,
   "metadata": {},
   "outputs": [
    {
     "name": "stdout",
     "output_type": "stream",
     "text": [
      "tensor(14961021., dtype=torch.float64)\n"
     ]
    },
    {
     "data": {
      "text/plain": [
       "tensor(24., dtype=torch.float64)"
      ]
     },
     "execution_count": 59,
     "metadata": {},
     "output_type": "execute_result"
    }
   ],
   "source": [
    "print(xmax[3698])\n",
    "xmin[3698]"
   ]
  },
  {
   "cell_type": "code",
   "execution_count": 28,
   "metadata": {},
   "outputs": [
    {
     "data": {
      "text/plain": [
       "device(type='cuda', index=0)"
      ]
     },
     "execution_count": 28,
     "metadata": {},
     "output_type": "execute_result"
    }
   ],
   "source": [
    "torch.device('cuda:0')"
   ]
  },
  {
   "cell_type": "code",
   "execution_count": null,
   "metadata": {},
   "outputs": [],
   "source": []
  }
 ],
 "metadata": {
  "kernelspec": {
   "display_name": "Python 3",
   "language": "python",
   "name": "python3"
  },
  "language_info": {
   "codemirror_mode": {
    "name": "ipython",
    "version": 3
   },
   "file_extension": ".py",
   "mimetype": "text/x-python",
   "name": "python",
   "nbconvert_exporter": "python",
   "pygments_lexer": "ipython3",
   "version": "3.8.10"
  }
 },
 "nbformat": 4,
 "nbformat_minor": 4
}
